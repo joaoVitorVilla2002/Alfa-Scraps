{
  "cells": [
    {
      "cell_type": "markdown",
      "metadata": {
        "id": "y1X_NEYFhrxL"
      },
      "source": [
        "#Descrição do Programa"
      ]
    },
    {
      "cell_type": "markdown",
      "metadata": {
        "id": "mAppWqWUhx4n"
      },
      "source": [
        "## Visão Geral\n",
        "\n"
      ]
    },
    {
      "cell_type": "markdown",
      "metadata": {
        "id": "D6X-PRgmuOMH"
      },
      "source": [
        "O **AlfaScraps** é uma ferramenta desenvolvida para facilitar a análise de dados macroeconômicos e financeiros. Ele permite que o usuário acesse séries temporais de diversos indicadores de maneira simples, rápida e personalizada.\n",
        "\n",
        "A interface interativa no terminal possibilita que o usuário:\n",
        "- Selecione o tipo de dado desejado.\n",
        "- Defina o período de análise.\n",
        "- Exporte as informações para arquivos **.csv** para posterior análise.\n",
        "\n",
        "Esse programa foi projetado para atender tanto usuários iniciantes quanto especialistas em análise de dados."
      ]
    },
    {
      "cell_type": "markdown",
      "metadata": {
        "id": "GRtwel7WsjjM"
      },
      "source": [
        "##Tecnologias Utilizadas\n",
        "\n",
        "\n",
        "\n"
      ]
    },
    {
      "cell_type": "markdown",
      "metadata": {
        "id": "UPd-T3dAuSR2"
      },
      "source": [
        "O **AlfaScraps** foi desenvolvido utilizando as seguintes tecnologias:\n",
        "\n",
        "- **Python 3.10+**: A principal linguagem utilizada, aproveitando seus recursos modernos para garantir desempenho e legibilidade.\n",
        "- **yfinance**: Biblioteca para coleta de dados financeiros, como ações e criptomoedas, diretamente de fontes confiáveis.\n",
        "- **python-bcb**: Usada para obter dados macroeconômicos diretamente do Banco Central do Brasil, essencial para a análise econômica.\n",
        "- **fredapi**: Interface com o FRED (Federal Reserve Economic Data), permitindo acesso aos dados macroeconômicos dos Estados Unidos.\n",
        "- **pandas**: Ferramenta fundamental para manipulação e análise de grandes volumes de dados.\n",
        "- **concurrent.futures**: Usada para otimização do desempenho por meio de execução paralela, permitindo buscas mais rápidas.\n",
        "- **Requests**: Utilizada para realizar web scraping e coletar dados de APIs como **brapi.dev** e **CoinGecko**."
      ]
    },
    {
      "cell_type": "markdown",
      "metadata": {
        "id": "KzKFk_0MtLUV"
      },
      "source": [
        "##Estrutura Geral do Código"
      ]
    },
    {
      "cell_type": "markdown",
      "metadata": {
        "id": "TwtcACMcuWYm"
      },
      "source": [
        "* **Instalação de pacotes:** Primeira etapa para garantir que todas as dependências estejam corretas.\n",
        "\n",
        "* **Importação de bibliotecas:** Organização das bibliotecas utilizadas.\n",
        "\n",
        "* **Definição de dados:**\n",
        "Estrutura de dicionários contendo indicadores macroeconômicos, ações, commodities, criptomoedas e índices globais.\n",
        "\n",
        "* **Funções auxiliares:**\n",
        "\n",
        "  * Escolha do período de análise\n",
        "\n",
        "  * Criação de arquivos **.csv**\n",
        "\n",
        "  * Listagem de dados\n",
        "\n",
        "  * Interface de seleção interativa no terminal\n",
        "\n",
        "* **Módulo Principal:**\n",
        "\n",
        "  * Execução da interface de busca.\n",
        "\n",
        "  * Geração de arquivo .csv com as informações selecionadas."
      ]
    },
    {
      "cell_type": "markdown",
      "metadata": {
        "id": "BVI7rUKbt0BF"
      },
      "source": [
        "##Funcionalidades"
      ]
    },
    {
      "cell_type": "markdown",
      "metadata": {
        "id": "THT9d0fMuG--"
      },
      "source": [
        "* Buscar indicadores macroeconômicos brasileiros e internacionais.\n",
        "\n",
        "* Consultar ações da B3 separadas por tipo (ações ordinárias, preferenciais, BDRs, FIIs e ETFs).\n",
        "\n",
        "* Listar as principais criptomoedas disponíveis no mercado.\n",
        "\n",
        "* Exportar os dados buscados para arquivos **.csv**.\n",
        "\n",
        "* Interface amigável de terminal, permitindo navegação rápida."
      ]
    },
    {
      "cell_type": "markdown",
      "metadata": {
        "id": "e9j0aslSwJ2q"
      },
      "source": [
        "## Como Executar"
      ]
    },
    {
      "cell_type": "markdown",
      "metadata": {
        "id": "AQlDO7fmwM0b"
      },
      "source": [
        "1. Clone o repositório ou copie o notebook.\n",
        "\n",
        "2. Executar todas as células\n",
        "  * manualmente seguindo a ordem em que foram postas\n",
        "  * Caso esteja no Google Colab, selecione em **\"Ambiente de execução\"** a opção **\"Executar tudo\"**.\n",
        "\n",
        "3. Siga as instruções do terminal na secção **Interface Principal** para buscar o dado desejado."
      ]
    },
    {
      "cell_type": "markdown",
      "metadata": {
        "id": "yxEBvYu_veME"
      },
      "source": [
        "##Organização da Busca"
      ]
    },
    {
      "cell_type": "markdown",
      "metadata": {
        "id": "OAyLCciqvhLU"
      },
      "source": [
        "* As opções de busca estão organizadas em:\n",
        "\n",
        "  * Indicadores Macroeconômicos Brasileiros\n",
        "\n",
        "  * Indicadores Macroeconômicos dos EUA\n",
        "\n",
        "  * Commodities\n",
        "\n",
        "  * Índices Globais\n",
        "\n",
        "  * Ações da B3\n",
        "\n",
        "  * Criptomoedas\n",
        "\n",
        "* Podem ser visualizadas de forma mais detalhada na secção **Dados** e **Glossário**"
      ]
    },
    {
      "cell_type": "markdown",
      "metadata": {
        "id": "zsY6z-FSi4gd"
      },
      "source": [
        "##Autor"
      ]
    },
    {
      "cell_type": "markdown",
      "metadata": {
        "id": "wvwV4lYuus1-"
      },
      "source": [
        "João Vitor Figueiredo Villa -\n",
        "[LinkedIn](https://www.linkedin.com/in/jo%C3%A3o-vitor-figueiredo-villa-8323b8323/)"
      ]
    },
    {
      "cell_type": "markdown",
      "metadata": {
        "id": "-sGaVPpv6Mpu"
      },
      "source": [
        "#Pacotes"
      ]
    },
    {
      "cell_type": "markdown",
      "metadata": {
        "id": "8dKWUIKtSg-n"
      },
      "source": [
        "##Download dos pacotes"
      ]
    },
    {
      "cell_type": "markdown",
      "metadata": {
        "id": "RZ1H4e8w8hKV"
      },
      "source": [
        "Na primeira vez que o código for executado no computador — ou após ficar muito tempo sem ser usado — é necessário instalar os pacotes indicados nas células desta seção."
      ]
    },
    {
      "cell_type": "code",
      "execution_count": 3,
      "metadata": {
        "colab": {
          "base_uri": "https://localhost:8080/"
        },
        "id": "8ndz40QuS9BI",
        "outputId": "e7193cd6-23e5-493a-e2ed-143e5e44640d"
      },
      "outputs": [
        {
          "output_type": "stream",
          "name": "stdout",
          "text": [
            "Collecting python-bcb\n",
            "  Downloading python_bcb-0.3.3-py3-none-any.whl.metadata (2.5 kB)\n",
            "Requirement already satisfied: httpx>=0.24.0 in /usr/local/lib/python3.11/dist-packages (from python-bcb) (0.28.1)\n",
            "Requirement already satisfied: lxml>=4.9.2 in /usr/local/lib/python3.11/dist-packages (from python-bcb) (5.4.0)\n",
            "Requirement already satisfied: pandas>=2.0.0 in /usr/local/lib/python3.11/dist-packages (from python-bcb) (2.2.2)\n",
            "Requirement already satisfied: requests>=2.31.0 in /usr/local/lib/python3.11/dist-packages (from python-bcb) (2.32.3)\n",
            "Requirement already satisfied: anyio in /usr/local/lib/python3.11/dist-packages (from httpx>=0.24.0->python-bcb) (4.9.0)\n",
            "Requirement already satisfied: certifi in /usr/local/lib/python3.11/dist-packages (from httpx>=0.24.0->python-bcb) (2025.4.26)\n",
            "Requirement already satisfied: httpcore==1.* in /usr/local/lib/python3.11/dist-packages (from httpx>=0.24.0->python-bcb) (1.0.9)\n",
            "Requirement already satisfied: idna in /usr/local/lib/python3.11/dist-packages (from httpx>=0.24.0->python-bcb) (3.10)\n",
            "Requirement already satisfied: h11>=0.16 in /usr/local/lib/python3.11/dist-packages (from httpcore==1.*->httpx>=0.24.0->python-bcb) (0.16.0)\n",
            "Requirement already satisfied: numpy>=1.23.2 in /usr/local/lib/python3.11/dist-packages (from pandas>=2.0.0->python-bcb) (2.0.2)\n",
            "Requirement already satisfied: python-dateutil>=2.8.2 in /usr/local/lib/python3.11/dist-packages (from pandas>=2.0.0->python-bcb) (2.9.0.post0)\n",
            "Requirement already satisfied: pytz>=2020.1 in /usr/local/lib/python3.11/dist-packages (from pandas>=2.0.0->python-bcb) (2025.2)\n",
            "Requirement already satisfied: tzdata>=2022.7 in /usr/local/lib/python3.11/dist-packages (from pandas>=2.0.0->python-bcb) (2025.2)\n",
            "Requirement already satisfied: charset-normalizer<4,>=2 in /usr/local/lib/python3.11/dist-packages (from requests>=2.31.0->python-bcb) (3.4.2)\n",
            "Requirement already satisfied: urllib3<3,>=1.21.1 in /usr/local/lib/python3.11/dist-packages (from requests>=2.31.0->python-bcb) (2.4.0)\n",
            "Requirement already satisfied: six>=1.5 in /usr/local/lib/python3.11/dist-packages (from python-dateutil>=2.8.2->pandas>=2.0.0->python-bcb) (1.17.0)\n",
            "Requirement already satisfied: sniffio>=1.1 in /usr/local/lib/python3.11/dist-packages (from anyio->httpx>=0.24.0->python-bcb) (1.3.1)\n",
            "Requirement already satisfied: typing_extensions>=4.5 in /usr/local/lib/python3.11/dist-packages (from anyio->httpx>=0.24.0->python-bcb) (4.13.2)\n",
            "Downloading python_bcb-0.3.3-py3-none-any.whl (19 kB)\n",
            "Installing collected packages: python-bcb\n",
            "Successfully installed python-bcb-0.3.3\n"
          ]
        }
      ],
      "source": [
        "!pip install python-bcb"
      ]
    },
    {
      "cell_type": "code",
      "execution_count": 4,
      "metadata": {
        "colab": {
          "base_uri": "https://localhost:8080/"
        },
        "id": "evHRXOuUbc7_",
        "outputId": "63383133-fc08-46eb-823a-1ba1bb111692"
      },
      "outputs": [
        {
          "output_type": "stream",
          "name": "stdout",
          "text": [
            "Requirement already satisfied: yfinance in /usr/local/lib/python3.11/dist-packages (0.2.61)\n",
            "Requirement already satisfied: pandas>=1.3.0 in /usr/local/lib/python3.11/dist-packages (from yfinance) (2.2.2)\n",
            "Requirement already satisfied: numpy>=1.16.5 in /usr/local/lib/python3.11/dist-packages (from yfinance) (2.0.2)\n",
            "Requirement already satisfied: requests>=2.31 in /usr/local/lib/python3.11/dist-packages (from yfinance) (2.32.3)\n",
            "Requirement already satisfied: multitasking>=0.0.7 in /usr/local/lib/python3.11/dist-packages (from yfinance) (0.0.11)\n",
            "Requirement already satisfied: platformdirs>=2.0.0 in /usr/local/lib/python3.11/dist-packages (from yfinance) (4.3.8)\n",
            "Requirement already satisfied: pytz>=2022.5 in /usr/local/lib/python3.11/dist-packages (from yfinance) (2025.2)\n",
            "Requirement already satisfied: frozendict>=2.3.4 in /usr/local/lib/python3.11/dist-packages (from yfinance) (2.4.6)\n",
            "Requirement already satisfied: peewee>=3.16.2 in /usr/local/lib/python3.11/dist-packages (from yfinance) (3.18.1)\n",
            "Requirement already satisfied: beautifulsoup4>=4.11.1 in /usr/local/lib/python3.11/dist-packages (from yfinance) (4.13.4)\n",
            "Requirement already satisfied: curl_cffi>=0.7 in /usr/local/lib/python3.11/dist-packages (from yfinance) (0.10.0)\n",
            "Requirement already satisfied: protobuf>=3.19.0 in /usr/local/lib/python3.11/dist-packages (from yfinance) (5.29.4)\n",
            "Requirement already satisfied: websockets>=13.0 in /usr/local/lib/python3.11/dist-packages (from yfinance) (15.0.1)\n",
            "Requirement already satisfied: soupsieve>1.2 in /usr/local/lib/python3.11/dist-packages (from beautifulsoup4>=4.11.1->yfinance) (2.7)\n",
            "Requirement already satisfied: typing-extensions>=4.0.0 in /usr/local/lib/python3.11/dist-packages (from beautifulsoup4>=4.11.1->yfinance) (4.13.2)\n",
            "Requirement already satisfied: cffi>=1.12.0 in /usr/local/lib/python3.11/dist-packages (from curl_cffi>=0.7->yfinance) (1.17.1)\n",
            "Requirement already satisfied: certifi>=2024.2.2 in /usr/local/lib/python3.11/dist-packages (from curl_cffi>=0.7->yfinance) (2025.4.26)\n",
            "Requirement already satisfied: python-dateutil>=2.8.2 in /usr/local/lib/python3.11/dist-packages (from pandas>=1.3.0->yfinance) (2.9.0.post0)\n",
            "Requirement already satisfied: tzdata>=2022.7 in /usr/local/lib/python3.11/dist-packages (from pandas>=1.3.0->yfinance) (2025.2)\n",
            "Requirement already satisfied: charset-normalizer<4,>=2 in /usr/local/lib/python3.11/dist-packages (from requests>=2.31->yfinance) (3.4.2)\n",
            "Requirement already satisfied: idna<4,>=2.5 in /usr/local/lib/python3.11/dist-packages (from requests>=2.31->yfinance) (3.10)\n",
            "Requirement already satisfied: urllib3<3,>=1.21.1 in /usr/local/lib/python3.11/dist-packages (from requests>=2.31->yfinance) (2.4.0)\n",
            "Requirement already satisfied: pycparser in /usr/local/lib/python3.11/dist-packages (from cffi>=1.12.0->curl_cffi>=0.7->yfinance) (2.22)\n",
            "Requirement already satisfied: six>=1.5 in /usr/local/lib/python3.11/dist-packages (from python-dateutil>=2.8.2->pandas>=1.3.0->yfinance) (1.17.0)\n"
          ]
        }
      ],
      "source": [
        "!pip install yfinance"
      ]
    },
    {
      "cell_type": "code",
      "execution_count": 5,
      "metadata": {
        "colab": {
          "base_uri": "https://localhost:8080/"
        },
        "id": "yrMFRzyAbgiG",
        "outputId": "da10912a-010e-450b-918a-dce9a6713440"
      },
      "outputs": [
        {
          "output_type": "stream",
          "name": "stdout",
          "text": [
            "Collecting investpy\n",
            "  Downloading investpy-1.0.8.tar.gz (4.4 MB)\n",
            "\u001b[?25l     \u001b[90m━━━━━━━━━━━━━━━━━━━━━━━━━━━━━━━━━━━━━━━━\u001b[0m \u001b[32m0.0/4.4 MB\u001b[0m \u001b[31m?\u001b[0m eta \u001b[36m-:--:--\u001b[0m\r\u001b[2K     \u001b[91m━━━━━━━━━━━━━━\u001b[0m\u001b[91m╸\u001b[0m\u001b[90m━━━━━━━━━━━━━━━━━━━━━━━━━\u001b[0m \u001b[32m1.6/4.4 MB\u001b[0m \u001b[31m46.6 MB/s\u001b[0m eta \u001b[36m0:00:01\u001b[0m\r\u001b[2K     \u001b[91m━━━━━━━━━━━━━━━━━━━━━━━━━━━━━━━━━━━━━━━\u001b[0m\u001b[91m╸\u001b[0m \u001b[32m4.4/4.4 MB\u001b[0m \u001b[31m75.4 MB/s\u001b[0m eta \u001b[36m0:00:01\u001b[0m\r\u001b[2K     \u001b[90m━━━━━━━━━━━━━━━━━━━━━━━━━━━━━━━━━━━━━━━━\u001b[0m \u001b[32m4.4/4.4 MB\u001b[0m \u001b[31m53.6 MB/s\u001b[0m eta \u001b[36m0:00:00\u001b[0m\n",
            "\u001b[?25h  Preparing metadata (setup.py) ... \u001b[?25l\u001b[?25hdone\n",
            "Collecting Unidecode>=1.1.1 (from investpy)\n",
            "  Downloading Unidecode-1.4.0-py3-none-any.whl.metadata (13 kB)\n",
            "Requirement already satisfied: setuptools>=41.2.0 in /usr/local/lib/python3.11/dist-packages (from investpy) (75.2.0)\n",
            "Requirement already satisfied: numpy>=1.17.2 in /usr/local/lib/python3.11/dist-packages (from investpy) (2.0.2)\n",
            "Requirement already satisfied: pandas>=0.25.1 in /usr/local/lib/python3.11/dist-packages (from investpy) (2.2.2)\n",
            "Requirement already satisfied: lxml>=4.4.1 in /usr/local/lib/python3.11/dist-packages (from investpy) (5.4.0)\n",
            "Requirement already satisfied: requests>=2.22.0 in /usr/local/lib/python3.11/dist-packages (from investpy) (2.32.3)\n",
            "Requirement already satisfied: pytz>=2019.3 in /usr/local/lib/python3.11/dist-packages (from investpy) (2025.2)\n",
            "Requirement already satisfied: python-dateutil>=2.8.2 in /usr/local/lib/python3.11/dist-packages (from pandas>=0.25.1->investpy) (2.9.0.post0)\n",
            "Requirement already satisfied: tzdata>=2022.7 in /usr/local/lib/python3.11/dist-packages (from pandas>=0.25.1->investpy) (2025.2)\n",
            "Requirement already satisfied: charset-normalizer<4,>=2 in /usr/local/lib/python3.11/dist-packages (from requests>=2.22.0->investpy) (3.4.2)\n",
            "Requirement already satisfied: idna<4,>=2.5 in /usr/local/lib/python3.11/dist-packages (from requests>=2.22.0->investpy) (3.10)\n",
            "Requirement already satisfied: urllib3<3,>=1.21.1 in /usr/local/lib/python3.11/dist-packages (from requests>=2.22.0->investpy) (2.4.0)\n",
            "Requirement already satisfied: certifi>=2017.4.17 in /usr/local/lib/python3.11/dist-packages (from requests>=2.22.0->investpy) (2025.4.26)\n",
            "Requirement already satisfied: six>=1.5 in /usr/local/lib/python3.11/dist-packages (from python-dateutil>=2.8.2->pandas>=0.25.1->investpy) (1.17.0)\n",
            "Downloading Unidecode-1.4.0-py3-none-any.whl (235 kB)\n",
            "\u001b[2K   \u001b[90m━━━━━━━━━━━━━━━━━━━━━━━━━━━━━━━━━━━━━━━━\u001b[0m \u001b[32m235.8/235.8 kB\u001b[0m \u001b[31m12.9 MB/s\u001b[0m eta \u001b[36m0:00:00\u001b[0m\n",
            "\u001b[?25hBuilding wheels for collected packages: investpy\n",
            "  Building wheel for investpy (setup.py) ... \u001b[?25l\u001b[?25hdone\n",
            "  Created wheel for investpy: filename=investpy-1.0.8-py3-none-any.whl size=4481565 sha256=e5a08870341b7db69518788cee705f2e1848e15b73b8e30c4184d952cf49fdde\n",
            "  Stored in directory: /root/.cache/pip/wheels/df/e8/50/8d6a7119bc8829b70c66573d84e09873d611f9244cf5a1d1b2\n",
            "Successfully built investpy\n",
            "Installing collected packages: Unidecode, investpy\n",
            "Successfully installed Unidecode-1.4.0 investpy-1.0.8\n"
          ]
        }
      ],
      "source": [
        "!pip install investpy"
      ]
    },
    {
      "cell_type": "code",
      "execution_count": 6,
      "metadata": {
        "colab": {
          "base_uri": "https://localhost:8080/"
        },
        "id": "4TuuPxJMbi61",
        "outputId": "14b7a5a4-ebb5-4696-ec63-f963bdee0528"
      },
      "outputs": [
        {
          "output_type": "stream",
          "name": "stdout",
          "text": [
            "Requirement already satisfied: pandas in /usr/local/lib/python3.11/dist-packages (2.2.2)\n",
            "Requirement already satisfied: numpy>=1.23.2 in /usr/local/lib/python3.11/dist-packages (from pandas) (2.0.2)\n",
            "Requirement already satisfied: python-dateutil>=2.8.2 in /usr/local/lib/python3.11/dist-packages (from pandas) (2.9.0.post0)\n",
            "Requirement already satisfied: pytz>=2020.1 in /usr/local/lib/python3.11/dist-packages (from pandas) (2025.2)\n",
            "Requirement already satisfied: tzdata>=2022.7 in /usr/local/lib/python3.11/dist-packages (from pandas) (2025.2)\n",
            "Requirement already satisfied: six>=1.5 in /usr/local/lib/python3.11/dist-packages (from python-dateutil>=2.8.2->pandas) (1.17.0)\n"
          ]
        }
      ],
      "source": [
        "!pip install pandas"
      ]
    },
    {
      "cell_type": "code",
      "execution_count": 7,
      "metadata": {
        "colab": {
          "base_uri": "https://localhost:8080/"
        },
        "id": "SfLZ7GDvTC0b",
        "outputId": "e51ab887-0e2f-426b-cbd2-5ed7194685d6"
      },
      "outputs": [
        {
          "output_type": "stream",
          "name": "stdout",
          "text": [
            "Collecting fredapi\n",
            "  Downloading fredapi-0.5.2-py3-none-any.whl.metadata (5.0 kB)\n",
            "Requirement already satisfied: pandas in /usr/local/lib/python3.11/dist-packages (from fredapi) (2.2.2)\n",
            "Requirement already satisfied: numpy>=1.23.2 in /usr/local/lib/python3.11/dist-packages (from pandas->fredapi) (2.0.2)\n",
            "Requirement already satisfied: python-dateutil>=2.8.2 in /usr/local/lib/python3.11/dist-packages (from pandas->fredapi) (2.9.0.post0)\n",
            "Requirement already satisfied: pytz>=2020.1 in /usr/local/lib/python3.11/dist-packages (from pandas->fredapi) (2025.2)\n",
            "Requirement already satisfied: tzdata>=2022.7 in /usr/local/lib/python3.11/dist-packages (from pandas->fredapi) (2025.2)\n",
            "Requirement already satisfied: six>=1.5 in /usr/local/lib/python3.11/dist-packages (from python-dateutil>=2.8.2->pandas->fredapi) (1.17.0)\n",
            "Downloading fredapi-0.5.2-py3-none-any.whl (11 kB)\n",
            "Installing collected packages: fredapi\n",
            "Successfully installed fredapi-0.5.2\n"
          ]
        }
      ],
      "source": [
        "!pip install fredapi"
      ]
    },
    {
      "cell_type": "code",
      "source": [
        "!pip install datetime"
      ],
      "metadata": {
        "colab": {
          "base_uri": "https://localhost:8080/"
        },
        "id": "hQEJoj5v050d",
        "outputId": "d2f8683e-a34c-4231-fae7-ed722d1f67f1"
      },
      "execution_count": 8,
      "outputs": [
        {
          "output_type": "stream",
          "name": "stdout",
          "text": [
            "Collecting datetime\n",
            "  Downloading DateTime-5.5-py3-none-any.whl.metadata (33 kB)\n",
            "Collecting zope.interface (from datetime)\n",
            "  Downloading zope.interface-7.2-cp311-cp311-manylinux_2_5_x86_64.manylinux1_x86_64.manylinux_2_17_x86_64.manylinux2014_x86_64.whl.metadata (44 kB)\n",
            "\u001b[2K     \u001b[90m━━━━━━━━━━━━━━━━━━━━━━━━━━━━━━━━━━━━━━━━\u001b[0m \u001b[32m44.4/44.4 kB\u001b[0m \u001b[31m3.1 MB/s\u001b[0m eta \u001b[36m0:00:00\u001b[0m\n",
            "\u001b[?25hRequirement already satisfied: pytz in /usr/local/lib/python3.11/dist-packages (from datetime) (2025.2)\n",
            "Requirement already satisfied: setuptools in /usr/local/lib/python3.11/dist-packages (from zope.interface->datetime) (75.2.0)\n",
            "Downloading DateTime-5.5-py3-none-any.whl (52 kB)\n",
            "\u001b[2K   \u001b[90m━━━━━━━━━━━━━━━━━━━━━━━━━━━━━━━━━━━━━━━━\u001b[0m \u001b[32m52.6/52.6 kB\u001b[0m \u001b[31m4.3 MB/s\u001b[0m eta \u001b[36m0:00:00\u001b[0m\n",
            "\u001b[?25hDownloading zope.interface-7.2-cp311-cp311-manylinux_2_5_x86_64.manylinux1_x86_64.manylinux_2_17_x86_64.manylinux2014_x86_64.whl (259 kB)\n",
            "\u001b[2K   \u001b[90m━━━━━━━━━━━━━━━━━━━━━━━━━━━━━━━━━━━━━━━━\u001b[0m \u001b[32m259.8/259.8 kB\u001b[0m \u001b[31m17.9 MB/s\u001b[0m eta \u001b[36m0:00:00\u001b[0m\n",
            "\u001b[?25hInstalling collected packages: zope.interface, datetime\n",
            "Successfully installed datetime-5.5 zope.interface-7.2\n"
          ]
        }
      ]
    },
    {
      "cell_type": "markdown",
      "metadata": {
        "id": "9ThwB-IZVX6b"
      },
      "source": [
        "##Implementação dos pacotes"
      ]
    },
    {
      "cell_type": "markdown",
      "metadata": {
        "id": "YPAWt97j8VrR"
      },
      "source": [
        "Importação dos pacotes utilizados no código."
      ]
    },
    {
      "cell_type": "code",
      "execution_count": 9,
      "metadata": {
        "id": "ZXf4OwudVari"
      },
      "outputs": [],
      "source": [
        "import pandas as pd\n",
        "import yfinance as yf\n",
        "\n",
        "from bcb import sgs\n",
        "from fredapi import Fred\n",
        "from datetime import datetime"
      ]
    },
    {
      "cell_type": "markdown",
      "metadata": {
        "id": "eNiIYQsnVrez"
      },
      "source": [
        "# Dados"
      ]
    },
    {
      "cell_type": "markdown",
      "metadata": {
        "id": "fGTB3SPd8tKY"
      },
      "source": [
        "* Seção onde todas as listas de dicionários disponíveis para busca no \"Principal\" podem ser encontradas.\n",
        "\n",
        "* Todos os dicionários possuem uma chave \"nome\", que armazena o nome do dado ou do subgrupo.\n",
        "\n",
        "* A estrutura dos dicionários varia:\n",
        "\n",
        "  * Alguns contêm uma chave \"lista\", que é uma lista de dicionários (separação por subgrupos para melhor visualização).\n",
        "\n",
        "  * Outros têm as chaves \"código\" ou \"ticker\", utilizadas para identificar o dado em pacotes de web scraping.\n",
        "\n",
        "* De modo geral:\n",
        "\n",
        "  * Dicionários com \"ticker\" vêm do pacote yfinance.\n",
        "\n",
        "  * Dicionários com \"código\" vêm de dados macroeconômicos (pacotes python-bcb ou fredapi).\n",
        "\n",
        "* Essas opções podem ser visualizadas de forma mais detalhada nas seções **Dados** e **Glossário**."
      ]
    },
    {
      "cell_type": "markdown",
      "metadata": {
        "id": "i67mTPg0WZGC"
      },
      "source": [
        "##[0] Indicadores Macroeconômicos Brasileiros"
      ]
    },
    {
      "cell_type": "markdown",
      "metadata": {
        "id": "MaGeD3pCqN2d"
      },
      "source": [
        "Dados econômicos fornecidos pelo Banco Central do Brasil."
      ]
    },
    {
      "cell_type": "code",
      "execution_count": 10,
      "metadata": {
        "id": "bGsoHg-yWCVa"
      },
      "outputs": [],
      "source": [
        "#0) Indicadores de Política Monetária e Inflação\n",
        "selicMeta = {\"nome\": \"Tx SELIC - Meta\",\n",
        "              \"codigo\": 11}\n",
        "selicOver = {\"nome\": \"Tx SELIC - Over\",\n",
        "              \"codigo\": 1178}\n",
        "ipca = {\"nome\": \"IPCA – Índice Nacional de Preços ao Consumidor Amplo\",\n",
        "              \"codigo\": 433}\n",
        "igpM = {\"nome\": \"IGP-M – Índice Geral de Preços (Mercado)\",\n",
        "              \"codigo\": 189}\n",
        "tr = {\"nome\": \"TR - Tx Referecial\",\n",
        "              \"codigo\": 226}\n",
        "\n",
        "ipmi = {\"nome\":\"Indicadores de Política Monetária e Inflação\",\n",
        "        \"lista\": [selicMeta,selicOver,ipca,igpM,tr]}\n",
        "\n",
        "\n",
        "#1) Mercado de Créditos\n",
        "credSisFinNAC = {\"nome\":\"Crédito Total do Sistema Financeiro Nacional\",\n",
        "                 \"codigo\": 2004}\n",
        "txMedJurosOpCred = {\"nome\":\"Tx Média de Juros das Operações de Crédito com Recursos Livres – PJ\",\n",
        "                 \"codigo\": 20724}\n",
        "inadimpPF = {\"nome\":\"Inadimplência – PF\",\n",
        "                 \"codigo\": 21082}\n",
        "inadimpPJ = {\"nome\":\"Inadimplência – PJ\",\n",
        "                 \"codigo\": 21083}\n",
        "\n",
        "mc = {\"nome\":\"Mercado de Créditos\",\n",
        "        \"lista\":[credSisFinNAC,txMedJurosOpCred,inadimpPF,inadimpPJ]}\n",
        "\n",
        "#2) Setor Externo e Câmbio\n",
        "txCamb = {\"nome\":\"Tx de Câmbio – Comercial (venda)\",\n",
        "          \"codigo\": 1}\n",
        "totReservaInt = {\"nome\": \"Reservas Internacionais – Total\",\n",
        "                 \"codigo\": 3548}\n",
        "balComEXP = {\"nome\":\"Balança Comercial – Exportações\",\n",
        "          \"codigo\": 22598}\n",
        "balComIMP = {\"nome\":\"Balança Comercial – Importações\",\n",
        "          \"codigo\": 22599}\n",
        "\n",
        "sec = {\"nome\":\"Setor Externo e Câmbio\",\n",
        "        \"lista\":[txCamb,totReservaInt,balComEXP,balComIMP]}\n",
        "\n",
        "#3) Finanças Públicas\n",
        "resultPrimSPubCons = {\"nome\":\"Resultado Primário do Setor Público Consolidado\",\n",
        "                      \"codigo\": 13762}\n",
        "divBrGovG = {\"nome\":\"Dívida Bruta do Governo Geral\",\n",
        "            \"codigo\": 4503}\n",
        "divLiqSPub = {\"nome\":\"Dívida Líquida do Setor Público\",\n",
        "            \"codigo\": 4502}\n",
        "\n",
        "fp = {\"nome\":\"Finanças Públicas\",\n",
        "        \"lista\":[resultPrimSPubCons,divBrGovG,divLiqSPub]}\n",
        "\n",
        "#4) Indicadores de Atividade Econômica\n",
        "ibcBr = {\"nome\":\"IBC-Br – Índice de Atividade Econômica do BC\",\n",
        "         \"codigo\": 24363}\n",
        "pib = {\"nome\":\"PIB - Produto Interno Bruto\",\n",
        "         \"codigo\": 4380}\n",
        "prodIndG = {\"nome\":\"Produção Industrial – Geral\",\n",
        "         \"codigo\": 21859}\n",
        "recServ = {\"nome\":\"Receita de Serviços\",\n",
        "         \"codigo\": 22720}\n",
        "\n",
        "iae = {\"nome\":\"Indicadores de Atividade Econômica\",\n",
        "        \"lista\":[ibcBr,pib,prodIndG,recServ]}\n",
        "\n",
        "#5) Expectativas de Mercado (Boletim Focus)\n",
        "expecIPCA = {\"nome\":\"Expectativa de IPCA – 12 meses à frente\",\n",
        "         \"codigo\": 4390}\n",
        "expecSelic = {\"nome\":\"Expectativa de Selic – 12 meses à frente\",\n",
        "         \"codigo\": 1178}\n",
        "expecCamb = {\"nome\":\"Expectativa de Câmbio – 12 meses à frente\",\n",
        "         \"codigo\": 10813}\n",
        "\n",
        "expecM = {\"nome\":\"Expectativas de Mercado (Boletim Focus)\",\n",
        "        \"lista\":[expecIPCA,expecSelic,expecCamb]}"
      ]
    },
    {
      "cell_type": "markdown",
      "metadata": {
        "id": "mnU7q-x_YGJJ"
      },
      "source": [
        "##[1] Indicadores Macroeconômicos EUA"
      ]
    },
    {
      "cell_type": "markdown",
      "metadata": {
        "id": "-Q5nXIe7qTXJ"
      },
      "source": [
        "Dados do FRED (Federal Reserve Economic Data) dos Estados Unidos."
      ]
    },
    {
      "cell_type": "code",
      "execution_count": 11,
      "metadata": {
        "id": "_RoFfg4t_n9G"
      },
      "outputs": [],
      "source": [
        "#0) Indicadores de Crescimento Econômico\n",
        "pibRealUS = {\"nome\": \"PIB real (anualizado, trimestral)\",\n",
        "             \"codigo\": \"GDPC1\"}\n",
        "pibNomUS = {\"nome\": \"PIB nominal (trimestral)\",\n",
        "             \"codigo\": \"GDP\"}\n",
        "consFamUS = {\"nome\": \"Consumo das Famílias\",\n",
        "             \"codigo\": \"PCEC\"}\n",
        "invPrivBrUS = {\"nome\": \"Investimento Privado Bruto\",\n",
        "             \"codigo\": \"GPDIC1\"}\n",
        "prodIndUS = {\"nome\": \"Produção Industrial\",\n",
        "             \"codigo\": \"INDPRO\"}\n",
        "\n",
        "icreUS = {\"nome\": \"Indicadores de Crescimento Econômico\",\n",
        "             \"lista\": [pibRealUS,pibNomUS,consFamUS,invPrivBrUS,prodIndUS]}\n",
        "\n",
        "#1) Indicadores de Inflação\n",
        "cpiGeUS = {\"nome\": \"Índice de Preços ao Consumidor (CPI) - Geral\",\n",
        "             \"codigo\": \"CPIAUCSL\"}\n",
        "cpiCoUS = {\"nome\": \"Core CPI (exclui alimentos e energia)\",\n",
        "             \"codigo\": \"CPILFESL\"}\n",
        "pceGeUS = {\"nome\": \"Índice de Preços (PCE) - Despesas de Consumo Pessoal\",\n",
        "             \"codigo\": \"PCE\"}\n",
        "pceCoUS = {\"nome\": \"Core PCE\",\n",
        "             \"codigo\": \"PCEPILFE\"}\n",
        "\n",
        "ifUS = {\"nome\": \"Indicadores de Inflação\",\n",
        "             \"lista\": [cpiGeUS,cpiCoUS,pceGeUS,pceCoUS]}\n",
        "\n",
        "#2) Indicadores de Mercado de Trabalho\n",
        "u3US = {\"nome\": \"Taxa de Desemprego (U-3)\",\n",
        "             \"codigo\": \"UNRATE\"}\n",
        "pftUS = {\"nome\": \"Participação da Força de Trabalho\",\n",
        "             \"codigo\": \"CIVPART\"}\n",
        "cvsnaUS = {\"nome\": \"Criação de Vagas no Setor Não-Agrícola\",\n",
        "             \"codigo\": \"PAYEMS\"}\n",
        "aheUS = {\"nome\": \"Índice de Salários (Average Hourly Earnings)\",\n",
        "             \"codigo\": \"CES0500000003\"}\n",
        "\n",
        "imtUS = {\"nome\": \"Indicadores de Mercado de Trabalho\",\n",
        "             \"lista\": [u3US,pftUS,cvsnaUS,aheUS]}\n",
        "\n",
        "#3) Indicadores de Política Monetária e Taxas\n",
        "fedUS = {\"nome\": \"Federal Funds Rate (Tx Básica do Fed)\",\n",
        "             \"codigo\": \"FEDFUNDS\"}\n",
        "tre10US = {\"nome\": \"Tx de Juros dos Treasuries (10 anos)\",\n",
        "             \"codigo\": \"GS10\"}\n",
        "spreadUS = {\"nome\": \"Curva de Juros 10Y-2Y (spread)\",\n",
        "             \"codigo\": \"T10Y2Y\"}\n",
        "txInfImp5US = {\"nome\": \"Tx de Inflação Implícita (5 anos)\",\n",
        "             \"codigo\": \"T5YIE\"}\n",
        "\n",
        "ipmtUS = {\"nome\": \"Indicadores de Política Monetária e Taxas\",\n",
        "             \"lista\": [fedUS,tre10US,spreadUS,spreadUS,txInfImp5US]}\n",
        "\n",
        "#4) Indicadores de Confiança e Expectativas\n",
        "indConfConUS = {\"nome\": \"Índice de Confiança do Consumidor (Conference Board)\",\n",
        "             \"codigo\": \"CONCCONF\"}\n",
        "indSentConUS = {\"nome\": \"Índice de Sentimento do Consumidor (University of Michigan)\",\n",
        "             \"codigo\": \"UMCSENT\"}\n",
        "busConfIdxUS = {\"nome\": \"Business Confidence Index (OECD - EUA)\",\n",
        "             \"codigo\": \"BCIUSA\"}\n",
        "leEcIdx = {\"nome\": \"Leading Economic Index (LEI)\",\n",
        "             \"codigo\": \"USSLIND\"}\n",
        "\n",
        "icoeUS = {\"nome\": \"Indicadores de Confiança e Expectativas\",\n",
        "             \"lista\": [indConfConUS,indSentConUS,busConfIdxUS,leEcIdx]}\n",
        "\n",
        "#5) Indicadores Fiscais e de Crédito\n",
        "divFedBrUS = {\"nome\": \"Dívida federal bruta\",\n",
        "             \"codigo\": \"GFDEBTN\"}\n",
        "defPubFedUS = {\"nome\": \"Déficit público federal\",\n",
        "             \"codigo\": \"MTSDS133FMS\"}\n",
        "totEmpBanComUS = {\"nome\": \"Total de empréstimos bancários Comerciais\",\n",
        "             \"codigo\": \"TOTBKCR\"}\n",
        "\n",
        "ifdUS = {\"nome\": \"Indicadores Fiscais e de Crédito\",\n",
        "             \"lista\": [divFedBrUS,defPubFedUS,totEmpBanComUS]}\n"
      ]
    },
    {
      "cell_type": "markdown",
      "metadata": {
        "id": "Gu26r6nvWxg1"
      },
      "source": [
        "##[2] Commodities"
      ]
    },
    {
      "cell_type": "markdown",
      "metadata": {
        "id": "jhT3AQ5FqWXw"
      },
      "source": [
        "Preços e índices de commodities como petróleo, ouro, etc."
      ]
    },
    {
      "cell_type": "code",
      "execution_count": 12,
      "metadata": {
        "id": "T53Hr3iEXDYj"
      },
      "outputs": [],
      "source": [
        "#0) Energia\n",
        "petrBrent = {\"nome\":\"Petróleo Brent (Global)\",\n",
        "             \"ticker\":\"BZ=F\"}\n",
        "petrWTI = {\"nome\":\"Petróleo WTI (EUA)\",\n",
        "             \"ticker\":\"CL=F\"}\n",
        "gasNat = {\"nome\":\"Gás Natural\",\n",
        "             \"ticker\":\"NG=F\"}\n",
        "gasolRef = {\"nome\":\"Gasolina RBOB\",\n",
        "             \"ticker\":\"RB=F\"}\n",
        "olAquec = {\"nome\":\"Óleo de Aquecimento\",\n",
        "             \"ticker\":\"HO=F\"}\n",
        "prop = {\"nome\":\"Propano\",\n",
        "             \"ticker\":\"PN=F\"}\n",
        "etanol = {\"nome\":\"Etanol\",\n",
        "             \"ticker\":\"AC=F\"}\n",
        "carv = {\"nome\":\"Carvão\",\n",
        "             \"ticker\":\"\tQL=F\"}\n",
        "\n",
        "energ = {\"nome\":\"Energia\",\n",
        "            \"lista\":[petrBrent,petrWTI,gasNat,gasolRef,olAquec,prop,etanol,carv]}\n",
        "\n",
        "#1) Metais Preciosos\n",
        "au = {\"nome\":\"Ouro\",\n",
        "             \"ticker\":\"GC=F\"}\n",
        "ag = {\"nome\":\"Prata\",\n",
        "             \"ticker\":\"SI=F\"}\n",
        "pt = {\"nome\":\"Platina\",\n",
        "             \"ticker\":\"\tPL=F\"}\n",
        "pd = {\"nome\":\"Paládio\",\n",
        "             \"ticker\":\"\tPA=F\"}\n",
        "\n",
        "mp = {\"nome\":\"Metais Preciosos\",\n",
        "        \"lista\":[au,ag,pt,pd]}\n",
        "\n",
        "#2) Metais Industriais\n",
        "cu = {\"nome\":\"Cobre\",\n",
        "             \"ticker\":\"HG=F\"}\n",
        "al = {\"nome\":\"Alumínio\",\n",
        "             \"ticker\":\"AL=F\"}\n",
        "zn = {\"nome\":\"Zinco\",\n",
        "             \"ticker\":\"\tZN=F\"}\n",
        "ni = {\"nome\":\"Níquel\",\n",
        "             \"ticker\":\"\tNI=F\"}\n",
        "\n",
        "mi = {\"nome\":\"Metais Industriais\",\n",
        "        \"lista\":[cu,al,zn,ni]}\n",
        "\n",
        "#3) Grãos e Fibras\n",
        "mil = {\"nome\":\"Milho\",\n",
        "             \"ticker\":\"ZC=F\"}\n",
        "sojGr = {\"nome\":\"Soja em grão\",\n",
        "             \"ticker\":\"ZS=F\"}\n",
        "tri = {\"nome\":\"Trigo\",\n",
        "             \"ticker\":\"\tZW=F\"}\n",
        "sojFar = {\"nome\":\"Farelo de Soja\",\n",
        "             \"ticker\":\"ZM=F\"}\n",
        "sojOl = {\"nome\":\"óleo de Soja\",\n",
        "             \"ticker\":\"ZL=F\"}\n",
        "arr = {\"nome\":\"Arroz\",\n",
        "             \"ticker\":\"\tZR=F\"}\n",
        "ave = {\"nome\":\"Aveia\",\n",
        "             \"ticker\":\"ZO=F\"}\n",
        "\n",
        "gf = {\"nome\":\"Grãos e Fibras\",\n",
        "        \"lista\":[mil,sojGr,tri,sojFar,sojOl,arr,ave]}\n",
        "\n",
        "#4) Soft Commodities\n",
        "cafeArab = {\"nome\":\"Café Arábica\",\n",
        "             \"ticker\":\"KC=F\"}\n",
        "sugarBr = {\"nome\":\"Açúcar Bruto (No.11)\",\n",
        "             \"ticker\":\"SB=F\"}\n",
        "cac = {\"nome\":\"Cacau\",\n",
        "             \"ticker\":\"\tCC=F\"}\n",
        "algod = {\"nome\":\"Algodão (Fibra têxtil)\",\n",
        "             \"ticker\":\"CT=F\"}\n",
        "sucoLarConc = {\"nome\":\"Suco de Laranja Concentrado\",\n",
        "             \"ticker\":\"OJ=F\"}\n",
        "\n",
        "sc = {\"nome\":\"Soft Commodities\",\n",
        "        \"lista\":[cafeArab,sugarBr,cac,algod,sucoLarConc]}\n",
        "\n",
        "#5) Pecuária\n",
        "gaVivo = {\"nome\":\"Gado Vivo\",\n",
        "             \"ticker\":\"LE=F\"}\n",
        "gaEngo = {\"nome\":\"Gado de Engorda\",\n",
        "             \"ticker\":\"GF=F\"}\n",
        "suiMag = {\"nome\":\"Suínos Magros\",\n",
        "             \"ticker\":\"HE=F\"}\n",
        "\n",
        "pec = {\"nome\":\"Pecuária\",\n",
        "        \"lista\":[gaVivo,gaEngo,suiMag]}"
      ]
    },
    {
      "cell_type": "markdown",
      "metadata": {
        "id": "LSmEIozAXV4J"
      },
      "source": [
        "##[3] Indices Globais"
      ]
    },
    {
      "cell_type": "markdown",
      "metadata": {
        "id": "LKH_ERJXqZFd"
      },
      "source": [
        "Informações sobre os principais índices de ações globais, como o S&P 500 e outros."
      ]
    },
    {
      "cell_type": "code",
      "execution_count": 13,
      "metadata": {
        "id": "n3VPoig6Xojg"
      },
      "outputs": [],
      "source": [
        "#0) Gerais\n",
        "msciWI = {\"nome\":\"MSCI World Index (ETF)\",\n",
        "          \"ticker\":\"URTH\"}\n",
        "msciEM = {\"nome\":\"MSCI Emerging Markets (ETF)\",\n",
        "          \"ticker\":\"EEM\"}\n",
        "spGSCI = {\"nome\":\"S&P GSCI Commodity Index Future\",\n",
        "             \"ticker\":\"GD=F\"}\n",
        "\n",
        "indGe = {\"nome\":\"Gerais\",\n",
        "        \"lista\":[msciWI,msciEM,spGSCI]}\n",
        "\n",
        "#1) EUA\n",
        "sp500 = {\"nome\":\"S&P 500 (EUA)\",\n",
        "          \"ticker\":\"^GSPC\"}\n",
        "indicVol = {\"nome\":\"Índice de Volatilidade (S&P 500)\",\n",
        "          \"ticker\":\"^VIX\"}\n",
        "rus2000 = {\"nome\":\"Russell 2000 (EUA - small caps)\",\n",
        "          \"ticker\":\"^RUT\"}\n",
        "NasdaqComp = {\"nome\":\"Nasdaq Composite (EUA - tecnologia)\",\n",
        "          \"ticker\":\"^IXIC\"}\n",
        "\n",
        "indUS = {\"nome\":\"Estados Unidos\",\n",
        "        \"lista\":[sp500,indicVol,rus2000,NasdaqComp]}\n",
        "\n",
        "#2) Américas\n",
        "ipcMex = {\"nome\":\"IPC México\",\n",
        "          \"ticker\":\"^MXX\"}\n",
        "tsxComp = {\"nome\":\"S&P/TSX Composite\",\n",
        "          \"ticker\":\"^GSPTSE\"}\n",
        "ibov = {\"nome\":\"Ibovespa (Bra)\",\n",
        "          \"ticker\":\"^BVSP\"}\n",
        "merv = {\"nome\":\"MERVAL (Arg)\",\n",
        "          \"ticker\":\"^MERV\"}\n",
        "\n",
        "indAm = {\"nome\":\"Américas\",\n",
        "        \"lista\":[ipcMex,tsxComp,ibov,merv]}\n",
        "\n",
        "#3) Europa\n",
        "eustox50 = {\"nome\":\"Euro Stoxx 50\",\n",
        "          \"ticker\":\"^STOXX50E\"}\n",
        "ftse100 = {\"nome\":\"FTSE 100 (UK)\",\n",
        "          \"ticker\":\"^FTSE\"}\n",
        "dax = {\"nome\":\"DAX (Ale)\",\n",
        "          \"ticker\":\"^GDAXI\"}\n",
        "cac40 = {\"nome\":\"CAC 40 (Fra)\",\n",
        "          \"ticker\":\"^FCHI\"}\n",
        "\n",
        "indEu = {\"nome\":\"Europa\",\n",
        "        \"lista\":[eustox50,ftse100,dax,cac40]}\n",
        "\n",
        "#4) Ásia & Oceania\n",
        "nik225 = {\"nome\":\"Nikkei 225 (Jap)\",\n",
        "          \"ticker\":\"^N225\"}\n",
        "shangComp = {\"nome\":\"Shanghai Composite (Chi)\",\n",
        "          \"ticker\":\"000001.SS\"}\n",
        "kospi = {\"nome\":\"KOSPI (Kor)\",\n",
        "          \"ticker\":\"^KS11\"}\n",
        "bseSen = {\"nome\":\"BSE SENSEX (Ind)\",\n",
        "          \"ticker\":\"^BSESN\"}\n",
        "asx200 = {\"nome\":\"S&P/ASX 200 (Aus)\",\n",
        "          \"ticker\":\"^AXJO\"}\n",
        "\n",
        "indAO = {\"nome\":\"Ásia & Oceania\",\n",
        "        \"lista\":[nik225,shangComp,kospi,bseSen,asx200]}"
      ]
    },
    {
      "cell_type": "markdown",
      "source": [
        "##[4] Analise de Ações"
      ],
      "metadata": {
        "id": "ocJRz34tYgxn"
      }
    },
    {
      "cell_type": "code",
      "source": [
        "aBR = {\"nome\": \"Ações comercializadas na B3 (inclui ETFs, Fundos imobiliários e BDRs)\",\n",
        "         \"final\": \".SA\"}\n",
        "\n",
        "aEST = {\"nome\": \"Ações de Bolsas Estrangeiras\",\n",
        "         \"final\": \"\"}\n",
        "\n",
        "histP = {\"nome\": \"Histórico de preço de ações\",\n",
        "         \"lista\": [aBR,aEST]}\n",
        "\n",
        "empBR = {\"nome\": \"Empresa brasileira (B3 como bolsa matriz)\",\n",
        "         \"final\": \".SA\"}\n",
        "\n",
        "empEST = {\"nome\": \"Empresa Estrangeiras\",\n",
        "         \"final\": \"\"}\n",
        "\n",
        "histF = {\"nome\": \"Histórico financeiro de empresa com capital aberto\",\n",
        "         \"lista\": [empBR,empEST]}"
      ],
      "metadata": {
        "id": "D0Rbg8gVY0GE"
      },
      "execution_count": 14,
      "outputs": []
    },
    {
      "cell_type": "markdown",
      "metadata": {
        "id": "dSvJOHCPURAy"
      },
      "source": [
        "##Busca do período"
      ]
    },
    {
      "cell_type": "markdown",
      "metadata": {
        "id": "C2jbhCPCXlbg"
      },
      "source": [
        "Alguns dados são melhores de ser procurados em um método específico, invés de disponibilizar pelos 2 métodos. Esses dicionários separam esses tipos de dados para selecionar a função de escolha de período."
      ]
    },
    {
      "cell_type": "code",
      "execution_count": 15,
      "metadata": {
        "id": "ArmLLM9oUY3z"
      },
      "outputs": [],
      "source": [
        "nseries = {\"tipo\":1,\n",
        "           \"lista\": [pib]}\n",
        "\n",
        "dataseries = {\"tipo\":2,\n",
        "              \"lista\": [selicMeta,expecIPCA,expecSelic,expecCamb,txCamb,aBR,aEST,\n",
        "                        msciWI,msciEM,spGSCI,sp500,indicVol,rus2000,NasdaqComp,ipcMex,tsxComp,ibov,merv,\n",
        "                        eustox50,ftse100,dax,cac40,nik225,shangComp,kospi,bseSen,asx200,petrBrent,\n",
        "                        petrWTI,gasNat,gasolRef,olAquec,prop,etanol,carv,au,ag,pt,pd,cu,al,zn,ni,\n",
        "                        mil,sojGr,tri,sojFar,sojOl,arr,ave,cafeArab,sugarBr,cac,algod,sucoLarConc,\n",
        "                        gaVivo,gaEngo,suiMag]}\n"
      ]
    },
    {
      "cell_type": "markdown",
      "metadata": {
        "id": "ebHZ7Di-YoEN"
      },
      "source": [
        "##Grupo de dados"
      ]
    },
    {
      "cell_type": "code",
      "execution_count": 16,
      "metadata": {
        "id": "0Dzx3BviYyBv"
      },
      "outputs": [],
      "source": [
        "#[0] Indicadores Macroeconômicos Brasileiros\n",
        "grpMacroBR = {\"nome\":\"Indicadores Macroeconômicos Brasil\",\n",
        "            \"lista\":[ipmi,mc,sec,fp,iae,expecM]}\n",
        "\n",
        "#[1] Indicadores Macroeconômicos EUA\n",
        "grpMacroUS = {\"nome\":\"Indicadores Macroeconômicos EUA\",\n",
        "              \"lista\": [icreUS,ifUS,imtUS,ipmtUS,icoeUS,ifdUS]}\n",
        "\n",
        "#[2] Commodities\n",
        "grpCom = {\"nome\":\"Commodities\",\n",
        "        \"lista\":[energ,mp,mi,gf,sc,pec]}\n",
        "\n",
        "#[3] Indices Globais\n",
        "grpIG = {\"nome\":\"Indices Globais da Bolsa de Valores\",\n",
        "        \"lista\":[indGe,indUS,indAm,indEu,indAO]}\n",
        "\n",
        "#[4] Analise de Ações\n",
        "grpAcoes = {\"nome\": \"Analise de Ações (Preço e Financeiro)\",\n",
        "            \"lista\": [histP,histF]}\n",
        "\n",
        "#Areas de pesquisa\n",
        "grp = [grpMacroBR,grpMacroUS,grpCom,grpIG,grpAcoes]"
      ]
    },
    {
      "cell_type": "markdown",
      "metadata": {
        "id": "XuuLEGtrUiqF"
      },
      "source": [
        "# Funções Gerais"
      ]
    },
    {
      "cell_type": "markdown",
      "metadata": {
        "id": "TUuJIMN7q5s0"
      },
      "source": [
        "* As **Funções Gerais** são responsáveis por fornecer a funcionalidade básica e central do programa. Elas são projetadas para facilitar a interação com os dados e otimizar a execução das tarefas.\n",
        "\n",
        "* São também funções fundamentais para que o usuário consiga explorar os dados disponíveis, realizar consultas de forma eficiente e salvar os resultados para futuras análises."
      ]
    },
    {
      "cell_type": "markdown",
      "metadata": {
        "id": "QYgryYxgU33G"
      },
      "source": [
        "##funções de de tempo"
      ]
    },
    {
      "cell_type": "markdown",
      "metadata": {
        "id": "7dnYS9IeOS33"
      },
      "source": [
        "* A função **escolhePeriodo()** permite ao usuário definir o recorte temporal:\n",
        "\n",
        "  * Pela quantidade de séries mais recentes.\n",
        "\n",
        "  * Ou pela seleção de data inicial e final.\n",
        "\n",
        "  * Algumas fontes de dados só aceitam uma dessas opções.\n",
        "\n",
        "* A **função confereData()** auxilia na validação de datas digitadas, minimizando erros de entrada.\n",
        "\n",
        "* A **função confereG2per()** verifica o tipo de dado que está sendo analisado para dispnibilizar as melhores formas de fazer um recorte temporal dele, usando os dicionários **nseries** e **dataseries** como referência, para diminuir a chance de gerar um DataFrame vazio no fim da execussão do programa.\n",
        "\n"
      ]
    },
    {
      "cell_type": "code",
      "execution_count": 17,
      "metadata": {
        "id": "9itWHVOPU82C"
      },
      "outputs": [],
      "source": [
        "def confereData(data):\n",
        "    if data[0:2].isnumeric():\n",
        "      dia = int(data[0:2])\n",
        "    else:\n",
        "      return False\n",
        "    if data[3:5].isnumeric():\n",
        "      mes = int(data[3:5])\n",
        "    else:\n",
        "      return False\n",
        "    if data[6:10].isnumeric():\n",
        "      ano = int(data[6:10])\n",
        "    else:\n",
        "      return False\n",
        "    divData = [data[2],data[5]]\n",
        "\n",
        "    dataAGR = datetime.now()\n",
        "\n",
        "    m31 = [1,3,5,7,8,9,12]\n",
        "    m28 = 2\n",
        "    m30 = [4,6,9,11]\n",
        "    divPos = [\"-\",\"/\"]\n",
        "\n",
        "    if divData[0] not in divPos or divData[1] not in divPos:\n",
        "        return False\n",
        "    if ano > dataAGR.year:\n",
        "        return False\n",
        "    elif dia == 31:\n",
        "        if ano not in m31:\n",
        "            return False\n",
        "    elif dia > 31:\n",
        "        return False\n",
        "    elif mes > 12:\n",
        "        return False\n",
        "    elif mes == m28 and dia > 29:\n",
        "        return False\n",
        "    elif mes == m28 and dia == 29:\n",
        "        if ano % 400 != 0:\n",
        "            return False\n",
        "        else:\n",
        "            if ano % 100 == 0:\n",
        "                return False\n",
        "            else:\n",
        "                if ano % 4 != 0:\n",
        "                    return False\n",
        "    return True\n",
        "\n",
        "def escolhePeriodo(n):\n",
        "\n",
        "    if n == 3:\n",
        "        print(\"Como procurar a série temporal do dado:\")\n",
        "        print(\"[1] Últimas 'n' séries salvas\")\n",
        "        print(\"[2] De uma data até outra\")\n",
        "        tipoPer = int(input(\"Método Escolhido: \"))\n",
        "        print(\"-=\" * 20)\n",
        "    else:\n",
        "        if n == 1:\n",
        "          tipoPer = 1\n",
        "        else:\n",
        "          tipoPer = 2\n",
        "\n",
        "    if tipoPer == 1:\n",
        "        per = int(input(\"Quantas últimas 'n' series temporais: \"))\n",
        "        print(\"-=\" * 20)\n",
        "        return [tipoPer, per, \"d\"]\n",
        "\n",
        "    elif tipoPer == 2:\n",
        "        dataInic = input(\"Data inicial da série (DD-MM-AAAA): \")\n",
        "        if confereData(dataInic) == False:\n",
        "            while confereData(dataInic) == False:\n",
        "                print(\"Você inseriu uma data incorreta! Insira uma data válida.\")\n",
        "                print(\"Se uma parte da data tiver apenas um dígito, coloque um zero antes.\")\n",
        "                dataInic = input(\"Data inicial da série (DD-MM-AAAA): \")\n",
        "\n",
        "        print(\"-=\" * 20)\n",
        "        dataFin = input(\"Data final da série (DD-MM-AAAA): \")\n",
        "        if confereData(dataFin) == False:\n",
        "            while confereData(dataFin) == False:\n",
        "                print(\"Você inseriu uma data incorreta! Insira uma data válida.\")\n",
        "                print(\"Se uma parte da data tiver apenas um dígito, coloque um zero antes.\")\n",
        "                dataFin = input(\"Data final da série (DD-MM-AAAA): \")\n",
        "\n",
        "        print(\"-=\" * 20)\n",
        "        return [tipoPer, dataInic, dataFin]\n",
        "\n",
        "def confereG2per(g2):\n",
        "  ntp = 0\n",
        "  for i in dataseries[\"lista\"]:\n",
        "    if type(i) == list:\n",
        "      if g2 in i:\n",
        "        ntp = dataseries[\"tipo\"]\n",
        "    else:\n",
        "      if g2 == i:\n",
        "        ntp = dataseries[\"tipo\"]\n",
        "\n",
        "  if ntp == 0:\n",
        "    if g2 == nseries[\"lista\"]:\n",
        "      ntp = nseries[\"tipo\"]\n",
        "    else:\n",
        "      ntp = 3\n",
        "  return ntp"
      ]
    },
    {
      "cell_type": "markdown",
      "metadata": {
        "id": "TCPB5X2saxdH"
      },
      "source": [
        "##Criar DataFrame"
      ]
    },
    {
      "cell_type": "markdown",
      "metadata": {
        "id": "72N-8ZIhSH4E"
      },
      "source": [
        "* Funções específicas para criar DataFrames a partir dos dados extraídos, ajustadas conforme a fonte (pacotes ou APIs)."
      ]
    },
    {
      "cell_type": "code",
      "execution_count": 18,
      "metadata": {
        "id": "RVMs3wY-a853"
      },
      "outputs": [],
      "source": [
        "def criaDF_bcb(g,cod, ntp):\n",
        "    p = escolhePeriodo(ntp)\n",
        "\n",
        "    if p[0] == 1:\n",
        "        csv = sgs.get(cod,last=p[1])\n",
        "\n",
        "    elif p[0] == 2:\n",
        "        d1 = datetime.strptime(p[1], \"%d-%m-%Y\").date()\n",
        "        d2 = datetime.strptime(p[2], \"%d-%m-%Y\").date()\n",
        "        csv = sgs.get(cod, start=d1,end=d2)\n",
        "\n",
        "    print(g[\"nome\"])\n",
        "    print(csv)\n",
        "    print(\"-=\" * 20)\n",
        "    return csv\n",
        "\n",
        "def criaDF_fred(dado):\n",
        "  fred = Fred(api_key='ba12fc16c8976c6dc30568359c97fc79')\n",
        "  csv = fred.get_series(dado)\n",
        "\n",
        "  print(dado[\"nome\"])\n",
        "  print(csv)\n",
        "  print(\"-=\" * 20)\n",
        "  return csv\n",
        "\n",
        "def pegaTicker(g2):\n",
        "  while True:\n",
        "    tick = input(\"Digite o ticker da empresa para ser analisada: \")\n",
        "\n",
        "    try:\n",
        "        # Verifica o tipo de empresa e adiciona sufixo se necessário\n",
        "        if g2 == empBR or g2 == aBR:  # Agora temos a referência correta\n",
        "            if tick[-3:] != g2[\"final\"]:\n",
        "                tick = tick.upper() + g2[\"final\"]\n",
        "        else:\n",
        "            tick = tick.upper()\n",
        "\n",
        "        # Tenta obter informações da empresa para validar o ticker\n",
        "        emp = yf.Ticker(tick)\n",
        "        info = emp.info\n",
        "\n",
        "        # Verifica se o ticker é válido\n",
        "        if \"symbol\" in info:\n",
        "            print(f\"Empresa encontrada: {info.get('longName', tick)}\")\n",
        "            break\n",
        "        else:\n",
        "            print(\"Ticker não encontrado! Verifique se o código está correto.\")\n",
        "    except Exception as e:\n",
        "        print(f\"Erro ao buscar ticker: {str(e)}\")\n",
        "        print(\"Digite um ticker válido.\")\n",
        "\n",
        "    print(\"-=\" * 20)\n",
        "\n",
        "  return tick\n",
        "\n",
        "def criaDF_yfinance(g0,g2, ntp):\n",
        "  if g0 == grpAcoes:\n",
        "    tick = pegaTicker(g2)\n",
        "  else:\n",
        "    tick = g2[\"ticker\"]\n",
        "  emp = yf.Ticker(tick)\n",
        "\n",
        "  per = escolhePeriodo(ntp)\n",
        "  tipoP = per[0]\n",
        "\n",
        "  emp = yf.Ticker(tick)  # Garantir que 'tick' seja um ticker válido\n",
        "  if tipoP == 1:\n",
        "      p,tp = per[1], per[2]\n",
        "      csv = emp.history(period=f\"{p}{tp}\")\n",
        "  elif tipoP == 2:\n",
        "      d1,d2 = per[1], per[2]\n",
        "      d1 = datetime.strptime(d1, \"%d-%m-%Y\").date()\n",
        "      d2 = datetime.strptime(d2, \"%d-%m-%Y\").date()\n",
        "      csv = emp.history(start=d1, end=d2)\n",
        "\n",
        "  print(g2[\"nome\"])\n",
        "  print(csv)\n",
        "  print(\"-=\" * 20)\n",
        "  return csv\n",
        "\n",
        "\n",
        "def dadosFincDF(g2):\n",
        "  tick = pegaTicker(g2)\n",
        "  emp = tick.yfinance()\n",
        "\n",
        "  while True:\n",
        "    print(\"-=\"*20)\n",
        "    print(\"[1] Fluxo de Caixa\")\n",
        "    print(\"[2] Balanço patrimonial\")\n",
        "    print(\"[3] Demonstração de resultado (DRE)\")\n",
        "\n",
        "    tipod = int(input(\"Qual tipo de Análise da empresa você quer fazer? \"))\n",
        "    if tipod in [1, 2, 3]:\n",
        "      break\n",
        "    else:\n",
        "      print(\"-=\" * 20)\n",
        "      print(\"Por favor, digite um número (1, 2 ou 3)!\")\n",
        "      print(\"-=\" * 20)\n",
        "\n",
        "    # Correção nas atribuições para corresponder aos comentários\n",
        "    if tipod == 1:\n",
        "        csv = emp.cashflow  # Fluxo de Caixa\n",
        "    elif tipod == 2:\n",
        "        csv = emp.balance_sheet  # Balanço patrimonial\n",
        "    elif tipod == 3:\n",
        "        csv = emp.financials  # DRE (Demonstração de resultado)\n",
        "\n",
        "    print(\"-=\" * 20)\n",
        "    print(f\"Dados financeiros de {tick}:\")\n",
        "    print(\"-=\" * 20)\n",
        "    print(csv)\n",
        "    print(\"-=\" * 20)\n",
        "\n",
        "    return csv\n"
      ]
    },
    {
      "cell_type": "markdown",
      "metadata": {
        "id": "ZIaPkZY5k0iv"
      },
      "source": [
        "##Criar CSV"
      ]
    },
    {
      "cell_type": "code",
      "execution_count": 19,
      "metadata": {
        "id": "gUMqi3DBk5Xv"
      },
      "outputs": [],
      "source": [
        "def criaCSV(df):\n",
        "  if not df.empty:\n",
        "    nome_arquivo = g2[\"nome\"].replace(\" \", \"_\").replace(\"–\", \"-\") + \".csv\"\n",
        "    dadof.to_csv(nome_arquivo, index=True, encoding='utf-8-sig')\n",
        "    print(f\"Dados salvos em: {nome_arquivo}\")\n",
        "  else:\n",
        "    print(\"Nenhum dado para salvar.\")\n",
        "  print(\"-=\" * 20)\n",
        "  print(\"Execução do programa terminado.\")\n",
        "  return"
      ]
    },
    {
      "cell_type": "markdown",
      "metadata": {
        "id": "ZGl4JhC1bOYs"
      },
      "source": [
        "##Listar dados"
      ]
    },
    {
      "cell_type": "markdown",
      "metadata": {
        "id": "B3G_S-idSi_4"
      },
      "source": [
        "* A função **listarDados()** lista todos os dados disponíveis.\n",
        "\n",
        "* A função **listarMuitosDados()** lista dados de n a m dentro de uma lista de dados."
      ]
    },
    {
      "cell_type": "code",
      "execution_count": 20,
      "metadata": {
        "id": "hwf6NQJ_bVgu"
      },
      "outputs": [],
      "source": [
        "def listarDados(dados):\n",
        "    n = 0\n",
        "    for i in dados:\n",
        "        d = i[\"nome\"]\n",
        "        print(f\"[{n}] {d}\")\n",
        "        n += 1\n",
        "    return"
      ]
    },
    {
      "cell_type": "markdown",
      "metadata": {
        "id": "nHHzl4WXb7MY"
      },
      "source": [
        "##Interface interativa"
      ]
    },
    {
      "cell_type": "markdown",
      "metadata": {
        "id": "DNw2vvaZTWfF"
      },
      "source": [
        "* As funções **pegaInfo0()**, **pegaInfo1()** e **pegaInfo2()** são usadas dentro da função principal **pegaInfo()**.\n",
        "\n",
        "* Elas guiam o usuário na seleção de:\n",
        "\n",
        "  * Grupo de dados.\n",
        "\n",
        "  * Subgrupo.\n",
        "\n",
        "  * Dado específico.\n",
        "\n",
        "* É possível retornar à seleção anterior digitando -1."
      ]
    },
    {
      "cell_type": "code",
      "execution_count": 21,
      "metadata": {
        "id": "yu_zqwApeBT5"
      },
      "outputs": [],
      "source": [
        "def confereInfo(gAnt, gAgr):\n",
        "    # Verificar se gAgr é numérico ou se é o valor -1 para voltar\n",
        "    if not gAgr.lstrip(\"-\").isnumeric() and gAgr != \"-1\":\n",
        "        return False\n",
        "    else:\n",
        "        # Verificar se gAgr está dentro do intervalo válido\n",
        "        if int(gAgr) > len(gAnt) or int(gAgr) < -1:\n",
        "            return False\n",
        "        else:\n",
        "            return True\n",
        "\n",
        "def pegaInfo0():\n",
        "    \"\"\"\n",
        "    Seleciona um grupo do primeiro nível\n",
        "    \"\"\"\n",
        "    print(\"-=\"*20)\n",
        "    print(\"Informação #1\")\n",
        "\n",
        "    resp = 0\n",
        "    while resp == 0:\n",
        "        print(\"-=\"*20)\n",
        "        listarDados(grp)\n",
        "        print(\"-=\"*20)\n",
        "        entrada = input(\"Digite o número do grupo dos dados [-1 = sair]: \")\n",
        "        print(\"-=\"*20)\n",
        "\n",
        "        # Validação da entrada\n",
        "        if not confereInfo(grp, entrada):\n",
        "            print(f\"Valor inválido! Digite um número entre 0 e {len(grp)-1} ou -1.\")\n",
        "            continue\n",
        "        else:\n",
        "          info0 = int(entrada)\n",
        "          break\n",
        "\n",
        "    if info0 == -1:\n",
        "        return -1\n",
        "    else:\n",
        "        return grp[info0]\n",
        "\n",
        "def pegaInfo1(g0):\n",
        "    \"\"\"\n",
        "    Seleciona um item do segundo nível\n",
        "    \"\"\"\n",
        "    print(\"Informação #2\")\n",
        "    print(\"-=\"*20)\n",
        "\n",
        "    resp = 0\n",
        "    while resp == 0:\n",
        "        listarDados(g0[\"lista\"])\n",
        "\n",
        "        print(\"-=\"*20)\n",
        "        entrada = input(\"Digite o número do subgrupo do dado [-1 = voltar]: \")\n",
        "        print(\"-=\"*20)\n",
        "\n",
        "        # Validação da entrada\n",
        "        if not confereInfo(g0[\"lista\"],entrada):\n",
        "            print(f\"Valor inválido! Digite um número entre 0 e {len(g0['lista'])-1} ou -1.\")\n",
        "            continue\n",
        "        else:\n",
        "          info1 = int(entrada)\n",
        "          break\n",
        "\n",
        "    if info1 == -1:\n",
        "        return -1\n",
        "    else:\n",
        "        return g0[\"lista\"][info1]\n",
        "\n",
        "def pegaInfo2(g1):\n",
        "    \"\"\"\n",
        "    Seleciona um item do terceiro nível com melhor tratamento de erros\n",
        "\n",
        "    Args:\n",
        "        g1: Objeto selecionado no segundo nível\n",
        "\n",
        "    Returns:\n",
        "        Objeto selecionado no terceiro nível ou -1 para voltar\n",
        "    \"\"\"\n",
        "    print(\"Informação #3\")\n",
        "    print(\"-=\"*20)\n",
        "\n",
        "    # Verifica se g1 é None\n",
        "    if g1 is None:\n",
        "        print(\"Erro: O objeto do segundo nível não foi definido corretamente.\")\n",
        "        return -1\n",
        "\n",
        "    # Verifica se g1 tem a chave 'lista'\n",
        "    if 'lista' not in g1:\n",
        "        print(f\"Erro: O objeto '{g1.get('nome', 'desconhecido')}' não tem uma lista de itens.\")\n",
        "        return -1\n",
        "\n",
        "    while True:\n",
        "        listarDados(g1[\"lista\"])\n",
        "        print(\"-=\"*20)\n",
        "        entrada = input(\"Digite o número do dado para ser analisado [-1 = voltar]: \")\n",
        "        print(\"-=\"*20)\n",
        "\n",
        "        # Validação da entrada\n",
        "        if not confereInfo(g1[\"lista\"], entrada):\n",
        "            print(f\"Valor inválido! Digite um número entre 0 e {len(g1['lista'])-1} ou -1.\")\n",
        "            continue\n",
        "\n",
        "        info2 = int(entrada)\n",
        "\n",
        "        if info2 == -1:\n",
        "          return -1\n",
        "        elif 0 <= info2 < len(g1[\"lista\"]):\n",
        "          return g1[\"lista\"][info2]\n",
        "        else:\n",
        "          print(f\"Valor inválido! Digite um número entre 0 e {len(g1['lista'])-1} ou -1.\")\n",
        "\n",
        "    # Se chegou aqui sem retornar, algo deu errado\n",
        "    print(\"Erro desconhecido ao selecionar item. Voltando...\")\n",
        "    return -1\n",
        "\n",
        "def pegaInfo():\n",
        "    \"\"\"\n",
        "    Função melhorada para obter informações do usuário com validação robusta\n",
        "    e tratamento de erros.\n",
        "\n",
        "    Returns:\n",
        "        Lista de objetos selecionados, um para cada nível\n",
        "    \"\"\"\n",
        "    grupos = [pegaInfo0, pegaInfo1, pegaInfo2]  # Lista de funções para os grupos\n",
        "    grupo_atual = 0  # Começa no primeiro grupo\n",
        "    resp = []  # Lista para armazenar as respostas\n",
        "\n",
        "    # Loop principal\n",
        "    while grupo_atual < len(grupos):\n",
        "        # Chama a função do grupo atual, passando a resposta anterior, se houver\n",
        "        if grupo_atual == 0:\n",
        "            resposta = grupos[grupo_atual]()  # Para o primeiro grupo\n",
        "        elif grupo_atual == 1:\n",
        "            if not resp:\n",
        "                print(\"Erro: resposta anterior não definida\")\n",
        "                break\n",
        "            resposta = grupos[grupo_atual](resp[0])  # Para o segundo grupo\n",
        "        elif grupo_atual == 2:\n",
        "            if len(resp) < 2:\n",
        "                print(\"Erro: respostas anteriores insuficientes\")\n",
        "                break\n",
        "            resposta = grupos[grupo_atual](resp[1])  # Para o terceiro grupo\n",
        "        else:\n",
        "            break  # Se o grupo não existir, sai do loop\n",
        "\n",
        "        # Verifica se resposta é válida\n",
        "        if resposta is None:\n",
        "            print(f\"Erro: A função do grupo {grupo_atual} retornou None. Tente novamente.\")\n",
        "            # Se for o grupo 0, sai completamente\n",
        "            if grupo_atual == 0:\n",
        "                break\n",
        "            # Se for um grupo posterior, volta para o anterior\n",
        "            grupo_atual -= 1\n",
        "            if resp:\n",
        "                resp.pop()  # Remove a última resposta da pilha\n",
        "            continue\n",
        "\n",
        "        if resposta == -1:  # Caso o comando seja voltar ou sair\n",
        "            if grupo_atual > 0:\n",
        "                grupo_atual -= 1  # Volta para o grupo anterior\n",
        "                resp.pop()  # Remove a última resposta da pilha\n",
        "                print(\"Voltando para o grupo anterior...\")\n",
        "            else:\n",
        "                print(\"Você já está no primeiro grupo. Saindo...\")\n",
        "                # Retorna uma lista vazia para indicar saída\n",
        "                return []\n",
        "        else:\n",
        "            grupo_atual += 1  # Atualiza para o próximo grupo\n",
        "            resp.append(resposta)  # Adiciona a resposta à pilha\n",
        "\n",
        "    # Verifica se temos pelo menos uma resposta\n",
        "    if not resp:\n",
        "        print(\"Nenhuma seleção foi feita. Saindo...\")\n",
        "        return []\n",
        "\n",
        "    # Verifica se as respostas estão completas\n",
        "    if len(resp) < 3:\n",
        "        print(\"Seleção incompleta. Certifique-se de selecionar todos os níveis necessários.\")\n",
        "        return []\n",
        "\n",
        "    return resp"
      ]
    },
    {
      "cell_type": "markdown",
      "metadata": {
        "id": "I0Topo-3CMKO"
      },
      "source": [
        "#Glossário"
      ]
    },
    {
      "cell_type": "markdown",
      "metadata": {
        "id": "jETCUPMGMJxD"
      },
      "source": [
        "Lista de opções disponíveis para escolha no terminal, correspondentes às seções \"Principal\" e \"Dados\"."
      ]
    },
    {
      "cell_type": "markdown",
      "metadata": {
        "id": "H0Isyqd6EkMc"
      },
      "source": [
        "##[0], [1], [2], [3] e [4]"
      ]
    },
    {
      "cell_type": "code",
      "execution_count": 25,
      "metadata": {
        "id": "7n6Vqin_CP_U",
        "colab": {
          "base_uri": "https://localhost:8080/"
        },
        "outputId": "2d52ce5a-7901-4a7d-dfb6-b13e55c4e79d"
      },
      "outputs": [
        {
          "output_type": "stream",
          "name": "stdout",
          "text": [
            "[0] - Indicadores Macroeconômicos Brasil\n",
            "-=-=-=-=-=-=-=-=-=-=-=-=-=-=-=-=-=-=-=-=\n",
            "[0][0] - Indicadores de Política Monetária e Inflação\n",
            "-=-=-=-=-=-=-=-=-=-=-=-=-=-=-=-=-=-=-=-=\n",
            "[0][0][0] - Tx SELIC - Meta\n",
            "[0][0][1] - Tx SELIC - Over\n",
            "[0][0][2] - IPCA – Índice Nacional de Preços ao Consumidor Amplo\n",
            "[0][0][3] - IGP-M – Índice Geral de Preços (Mercado)\n",
            "[0][0][4] - TR - Tx Referecial\n",
            "-=-=-=-=-=-=-=-=-=-=-=-=-=-=-=-=-=-=-=-=\n",
            "[0][1] - Mercado de Créditos\n",
            "-=-=-=-=-=-=-=-=-=-=-=-=-=-=-=-=-=-=-=-=\n",
            "[0][1][0] - Crédito Total do Sistema Financeiro Nacional\n",
            "[0][1][1] - Tx Média de Juros das Operações de Crédito com Recursos Livres – PJ\n",
            "[0][1][2] - Inadimplência – PF\n",
            "[0][1][3] - Inadimplência – PJ\n",
            "-=-=-=-=-=-=-=-=-=-=-=-=-=-=-=-=-=-=-=-=\n",
            "[0][2] - Setor Externo e Câmbio\n",
            "-=-=-=-=-=-=-=-=-=-=-=-=-=-=-=-=-=-=-=-=\n",
            "[0][2][0] - Tx de Câmbio – Comercial (venda)\n",
            "[0][2][1] - Reservas Internacionais – Total\n",
            "[0][2][2] - Balança Comercial – Exportações\n",
            "[0][2][3] - Balança Comercial – Importações\n",
            "-=-=-=-=-=-=-=-=-=-=-=-=-=-=-=-=-=-=-=-=\n",
            "[0][3] - Finanças Públicas\n",
            "-=-=-=-=-=-=-=-=-=-=-=-=-=-=-=-=-=-=-=-=\n",
            "[0][3][0] - Resultado Primário do Setor Público Consolidado\n",
            "[0][3][1] - Dívida Bruta do Governo Geral\n",
            "[0][3][2] - Dívida Líquida do Setor Público\n",
            "-=-=-=-=-=-=-=-=-=-=-=-=-=-=-=-=-=-=-=-=\n",
            "[0][4] - Indicadores de Atividade Econômica\n",
            "-=-=-=-=-=-=-=-=-=-=-=-=-=-=-=-=-=-=-=-=\n",
            "[0][4][0] - IBC-Br – Índice de Atividade Econômica do BC\n",
            "[0][4][1] - PIB - Produto Interno Bruto\n",
            "[0][4][2] - Produção Industrial – Geral\n",
            "[0][4][3] - Receita de Serviços\n",
            "-=-=-=-=-=-=-=-=-=-=-=-=-=-=-=-=-=-=-=-=\n",
            "[0][5] - Expectativas de Mercado (Boletim Focus)\n",
            "-=-=-=-=-=-=-=-=-=-=-=-=-=-=-=-=-=-=-=-=\n",
            "[0][5][0] - Expectativa de IPCA – 12 meses à frente\n",
            "[0][5][1] - Expectativa de Selic – 12 meses à frente\n",
            "[0][5][2] - Expectativa de Câmbio – 12 meses à frente\n",
            "-=-=-=-=-=-=-=-=-=-=-=-=-=-=-=-=-=-=-=-=\n",
            "[1] - Indicadores Macroeconômicos EUA\n",
            "-=-=-=-=-=-=-=-=-=-=-=-=-=-=-=-=-=-=-=-=\n",
            "[1][0] - Indicadores de Crescimento Econômico\n",
            "-=-=-=-=-=-=-=-=-=-=-=-=-=-=-=-=-=-=-=-=\n",
            "[1][0][0] - PIB real (anualizado, trimestral)\n",
            "[1][0][1] - PIB nominal (trimestral)\n",
            "[1][0][2] - Consumo das Famílias\n",
            "[1][0][3] - Investimento Privado Bruto\n",
            "[1][0][4] - Produção Industrial\n",
            "-=-=-=-=-=-=-=-=-=-=-=-=-=-=-=-=-=-=-=-=\n",
            "[1][1] - Indicadores de Inflação\n",
            "-=-=-=-=-=-=-=-=-=-=-=-=-=-=-=-=-=-=-=-=\n",
            "[1][1][0] - Índice de Preços ao Consumidor (CPI) - Geral\n",
            "[1][1][1] - Core CPI (exclui alimentos e energia)\n",
            "[1][1][2] - Índice de Preços (PCE) - Despesas de Consumo Pessoal\n",
            "[1][1][3] - Core PCE\n",
            "-=-=-=-=-=-=-=-=-=-=-=-=-=-=-=-=-=-=-=-=\n",
            "[1][2] - Indicadores de Mercado de Trabalho\n",
            "-=-=-=-=-=-=-=-=-=-=-=-=-=-=-=-=-=-=-=-=\n",
            "[1][2][0] - Taxa de Desemprego (U-3)\n",
            "[1][2][1] - Participação da Força de Trabalho\n",
            "[1][2][2] - Criação de Vagas no Setor Não-Agrícola\n",
            "[1][2][3] - Índice de Salários (Average Hourly Earnings)\n",
            "-=-=-=-=-=-=-=-=-=-=-=-=-=-=-=-=-=-=-=-=\n",
            "[1][3] - Indicadores de Política Monetária e Taxas\n",
            "-=-=-=-=-=-=-=-=-=-=-=-=-=-=-=-=-=-=-=-=\n",
            "[1][3][0] - Federal Funds Rate (Tx Básica do Fed)\n",
            "[1][3][1] - Tx de Juros dos Treasuries (10 anos)\n",
            "[1][3][2] - Curva de Juros 10Y-2Y (spread)\n",
            "[1][3][3] - Curva de Juros 10Y-2Y (spread)\n",
            "[1][3][4] - Tx de Inflação Implícita (5 anos)\n",
            "-=-=-=-=-=-=-=-=-=-=-=-=-=-=-=-=-=-=-=-=\n",
            "[1][4] - Indicadores de Confiança e Expectativas\n",
            "-=-=-=-=-=-=-=-=-=-=-=-=-=-=-=-=-=-=-=-=\n",
            "[1][4][0] - Índice de Confiança do Consumidor (Conference Board)\n",
            "[1][4][1] - Índice de Sentimento do Consumidor (University of Michigan)\n",
            "[1][4][2] - Business Confidence Index (OECD - EUA)\n",
            "[1][4][3] - Leading Economic Index (LEI)\n",
            "-=-=-=-=-=-=-=-=-=-=-=-=-=-=-=-=-=-=-=-=\n",
            "[1][5] - Indicadores Fiscais e de Crédito\n",
            "-=-=-=-=-=-=-=-=-=-=-=-=-=-=-=-=-=-=-=-=\n",
            "[1][5][0] - Dívida federal bruta\n",
            "[1][5][1] - Déficit público federal\n",
            "[1][5][2] - Total de empréstimos bancários Comerciais\n",
            "-=-=-=-=-=-=-=-=-=-=-=-=-=-=-=-=-=-=-=-=\n",
            "[2] - Commodities\n",
            "-=-=-=-=-=-=-=-=-=-=-=-=-=-=-=-=-=-=-=-=\n",
            "[2][0] - Energia\n",
            "-=-=-=-=-=-=-=-=-=-=-=-=-=-=-=-=-=-=-=-=\n",
            "[2][0][0] - Petróleo Brent (Global)\n",
            "[2][0][1] - Petróleo WTI (EUA)\n",
            "[2][0][2] - Gás Natural\n",
            "[2][0][3] - Gasolina RBOB\n",
            "[2][0][4] - Óleo de Aquecimento\n",
            "[2][0][5] - Propano\n",
            "[2][0][6] - Etanol\n",
            "[2][0][7] - Carvão\n",
            "-=-=-=-=-=-=-=-=-=-=-=-=-=-=-=-=-=-=-=-=\n",
            "[2][1] - Metais Preciosos\n",
            "-=-=-=-=-=-=-=-=-=-=-=-=-=-=-=-=-=-=-=-=\n",
            "[2][1][0] - Ouro\n",
            "[2][1][1] - Prata\n",
            "[2][1][2] - Platina\n",
            "[2][1][3] - Paládio\n",
            "-=-=-=-=-=-=-=-=-=-=-=-=-=-=-=-=-=-=-=-=\n",
            "[2][2] - Metais Industriais\n",
            "-=-=-=-=-=-=-=-=-=-=-=-=-=-=-=-=-=-=-=-=\n",
            "[2][2][0] - Cobre\n",
            "[2][2][1] - Alumínio\n",
            "[2][2][2] - Zinco\n",
            "[2][2][3] - Níquel\n",
            "-=-=-=-=-=-=-=-=-=-=-=-=-=-=-=-=-=-=-=-=\n",
            "[2][3] - Grãos e Fibras\n",
            "-=-=-=-=-=-=-=-=-=-=-=-=-=-=-=-=-=-=-=-=\n",
            "[2][3][0] - Milho\n",
            "[2][3][1] - Soja em grão\n",
            "[2][3][2] - Trigo\n",
            "[2][3][3] - Farelo de Soja\n",
            "[2][3][4] - óleo de Soja\n",
            "[2][3][5] - Arroz\n",
            "[2][3][6] - Aveia\n",
            "-=-=-=-=-=-=-=-=-=-=-=-=-=-=-=-=-=-=-=-=\n",
            "[2][4] - Soft Commodities\n",
            "-=-=-=-=-=-=-=-=-=-=-=-=-=-=-=-=-=-=-=-=\n",
            "[2][4][0] - Café Arábica\n",
            "[2][4][1] - Açúcar Bruto (No.11)\n",
            "[2][4][2] - Cacau\n",
            "[2][4][3] - Algodão (Fibra têxtil)\n",
            "[2][4][4] - Suco de Laranja Concentrado\n",
            "-=-=-=-=-=-=-=-=-=-=-=-=-=-=-=-=-=-=-=-=\n",
            "[2][5] - Pecuária\n",
            "-=-=-=-=-=-=-=-=-=-=-=-=-=-=-=-=-=-=-=-=\n",
            "[2][5][0] - Gado Vivo\n",
            "[2][5][1] - Gado de Engorda\n",
            "[2][5][2] - Suínos Magros\n",
            "-=-=-=-=-=-=-=-=-=-=-=-=-=-=-=-=-=-=-=-=\n",
            "[3] - Indices Globais da Bolsa de Valores\n",
            "-=-=-=-=-=-=-=-=-=-=-=-=-=-=-=-=-=-=-=-=\n",
            "[3][0] - Gerais\n",
            "-=-=-=-=-=-=-=-=-=-=-=-=-=-=-=-=-=-=-=-=\n",
            "[3][0][0] - MSCI World Index (ETF)\n",
            "[3][0][1] - MSCI Emerging Markets (ETF)\n",
            "[3][0][2] - S&P GSCI Commodity Index Future\n",
            "-=-=-=-=-=-=-=-=-=-=-=-=-=-=-=-=-=-=-=-=\n",
            "[3][1] - Estados Unidos\n",
            "-=-=-=-=-=-=-=-=-=-=-=-=-=-=-=-=-=-=-=-=\n",
            "[3][1][0] - S&P 500 (EUA)\n",
            "[3][1][1] - Índice de Volatilidade (S&P 500)\n",
            "[3][1][2] - Russell 2000 (EUA - small caps)\n",
            "[3][1][3] - Nasdaq Composite (EUA - tecnologia)\n",
            "-=-=-=-=-=-=-=-=-=-=-=-=-=-=-=-=-=-=-=-=\n",
            "[3][2] - Américas\n",
            "-=-=-=-=-=-=-=-=-=-=-=-=-=-=-=-=-=-=-=-=\n",
            "[3][2][0] - IPC México\n",
            "[3][2][1] - S&P/TSX Composite\n",
            "[3][2][2] - Ibovespa (Bra)\n",
            "[3][2][3] - MERVAL (Arg)\n",
            "-=-=-=-=-=-=-=-=-=-=-=-=-=-=-=-=-=-=-=-=\n",
            "[3][3] - Europa\n",
            "-=-=-=-=-=-=-=-=-=-=-=-=-=-=-=-=-=-=-=-=\n",
            "[3][3][0] - Euro Stoxx 50\n",
            "[3][3][1] - FTSE 100 (UK)\n",
            "[3][3][2] - DAX (Ale)\n",
            "[3][3][3] - CAC 40 (Fra)\n",
            "-=-=-=-=-=-=-=-=-=-=-=-=-=-=-=-=-=-=-=-=\n",
            "[3][4] - Ásia & Oceania\n",
            "-=-=-=-=-=-=-=-=-=-=-=-=-=-=-=-=-=-=-=-=\n",
            "[3][4][0] - Nikkei 225 (Jap)\n",
            "[3][4][1] - Shanghai Composite (Chi)\n",
            "[3][4][2] - KOSPI (Kor)\n",
            "[3][4][3] - BSE SENSEX (Ind)\n",
            "[3][4][4] - S&P/ASX 200 (Aus)\n",
            "-=-=-=-=-=-=-=-=-=-=-=-=-=-=-=-=-=-=-=-=\n",
            "[4] - Analise de Ações (Preço e Financeiro)\n",
            "-=-=-=-=-=-=-=-=-=-=-=-=-=-=-=-=-=-=-=-=\n",
            "[4][0] - Histórico de preço de ações\n",
            "-=-=-=-=-=-=-=-=-=-=-=-=-=-=-=-=-=-=-=-=\n",
            "[4][0][0] - Ações comercializadas na B3 (inclui ETFs, Fundos imobiliários e BDRs)\n",
            "[4][0][1] - Ações de Bolsas Estrangeiras\n",
            "-=-=-=-=-=-=-=-=-=-=-=-=-=-=-=-=-=-=-=-=\n",
            "[4][1] - Histórico financeiro de empresa com capital aberto\n",
            "-=-=-=-=-=-=-=-=-=-=-=-=-=-=-=-=-=-=-=-=\n",
            "[4][1][0] - Empresa brasileira (B3 como bolsa matriz)\n",
            "[4][1][1] - Empresa Estrangeiras\n",
            "-=-=-=-=-=-=-=-=-=-=-=-=-=-=-=-=-=-=-=-=\n"
          ]
        }
      ],
      "source": [
        "for n0,i in enumerate(grp):\n",
        "    print(f\"[{n0}] - {i['nome']}\")\n",
        "    print(\"-=\"*20)\n",
        "\n",
        "    # Verifica se i tem a chave 'lista' antes de tentar iterar\n",
        "    if 'lista' in i:\n",
        "      for n1, t in enumerate(i['lista']):\n",
        "        print(f\"[{n0}][{n1}] - {t['nome']}\")\n",
        "        print(\"-=\"*20)\n",
        "\n",
        "        # Verifica se t tem a chave 'lista' antes de tentar iterar\n",
        "        if 'lista' in t:\n",
        "          for n2, s in enumerate(t['lista']):\n",
        "            print(f\"[{n0}][{n1}][{n2}] - {s['nome']}\")\n",
        "\n",
        "          print(\"-=\"*20)\n",
        "\n",
        "    n0 += 1"
      ]
    },
    {
      "cell_type": "markdown",
      "metadata": {
        "id": "pCV-0uitfeNr"
      },
      "source": [
        "#Interface"
      ]
    },
    {
      "cell_type": "markdown",
      "metadata": {
        "id": "Bvjva4j9W0xp"
      },
      "source": [
        "## Principal"
      ]
    },
    {
      "cell_type": "markdown",
      "metadata": {
        "id": "lGkGIxUPKwDi"
      },
      "source": [
        "Executa o programa principal, listando todas as informações disponíveis e permitindo a escolha de apenas um dado por vez.\n",
        "\n",
        "**Obs:** Para agilizar a busca, recomenda-se consultar o Glossário e anotar a sequência de escolhas antes da execução."
      ]
    },
    {
      "cell_type": "code",
      "execution_count": 1,
      "metadata": {
        "colab": {
          "base_uri": "https://localhost:8080/",
          "height": 245
        },
        "id": "fasqSkqoM5ar",
        "outputId": "de946e32-7be1-4145-f58d-de95af8ac5de"
      },
      "outputs": [
        {
          "output_type": "stream",
          "name": "stdout",
          "text": [
            "-=-=-=-=-=-=-=-=-=-=-=-=-=-=-=-=-=-=-=-=\n",
            "Bem-vindo ao Alfa Scraps!\n"
          ]
        },
        {
          "output_type": "error",
          "ename": "NameError",
          "evalue": "name 'pegaInfo' is not defined",
          "traceback": [
            "\u001b[0;31m---------------------------------------------------------------------------\u001b[0m",
            "\u001b[0;31mNameError\u001b[0m                                 Traceback (most recent call last)",
            "\u001b[0;32m<ipython-input-1-af106e5ed4f9>\u001b[0m in \u001b[0;36m<cell line: 0>\u001b[0;34m()\u001b[0m\n\u001b[1;32m      2\u001b[0m \u001b[0mprint\u001b[0m\u001b[0;34m(\u001b[0m\u001b[0;34m\"Bem-vindo ao Alfa Scraps!\"\u001b[0m\u001b[0;34m)\u001b[0m\u001b[0;34m\u001b[0m\u001b[0;34m\u001b[0m\u001b[0m\n\u001b[1;32m      3\u001b[0m \u001b[0;34m\u001b[0m\u001b[0m\n\u001b[0;32m----> 4\u001b[0;31m \u001b[0mg\u001b[0m \u001b[0;34m=\u001b[0m \u001b[0mpegaInfo\u001b[0m\u001b[0;34m(\u001b[0m\u001b[0;34m)\u001b[0m\u001b[0;34m\u001b[0m\u001b[0;34m\u001b[0m\u001b[0m\n\u001b[0m\u001b[1;32m      5\u001b[0m \u001b[0mg0\u001b[0m\u001b[0;34m,\u001b[0m\u001b[0mg1\u001b[0m\u001b[0;34m,\u001b[0m\u001b[0mg2\u001b[0m \u001b[0;34m=\u001b[0m \u001b[0mg\u001b[0m\u001b[0;34m[\u001b[0m\u001b[0;36m0\u001b[0m\u001b[0;34m]\u001b[0m\u001b[0;34m,\u001b[0m \u001b[0mg\u001b[0m\u001b[0;34m[\u001b[0m\u001b[0;36m1\u001b[0m\u001b[0;34m]\u001b[0m\u001b[0;34m,\u001b[0m \u001b[0mg\u001b[0m\u001b[0;34m[\u001b[0m\u001b[0;36m2\u001b[0m\u001b[0;34m]\u001b[0m\u001b[0;34m\u001b[0m\u001b[0;34m\u001b[0m\u001b[0m\n\u001b[1;32m      6\u001b[0m \u001b[0;34m\u001b[0m\u001b[0m\n",
            "\u001b[0;31mNameError\u001b[0m: name 'pegaInfo' is not defined"
          ]
        }
      ],
      "source": [
        "print(\"-=\" * 20)\n",
        "print(\"Bem-vindo ao Alfa Scraps!\")\n",
        "\n",
        "g = pegaInfo()\n",
        "g0,g1,g2 = g[0], g[1], g[2]\n",
        "\n",
        "ntp = confereG2per(g2)\n",
        "\n",
        "if g0 == grp[0]:\n",
        "    dadof = criaDF_bcb(g1, g2[\"codigo\"],ntp)\n",
        "\n",
        "elif g0 == grp[1]:\n",
        "    dadof = criaDF_fred(g2[\"codigo\"])\n",
        "\n",
        "elif g0 == grp[4]:\n",
        "  if g1 == grpAcoes[\"lista\"][1]:\n",
        "    dadof = dadosFincDF(g2)\n",
        "  else:\n",
        "    dadof = criaDF_yfinance(g0,g2,ntp)\n",
        "\n",
        "else:\n",
        "  dadof = criaDF_yfinance(g0,g2,ntp)\n",
        "\n",
        "if dadof.empty:\n",
        "  print(\"Nenhum dado encontrado para este ticker.\")\n",
        "\n",
        "# Salva os dados no CSV\n",
        "criaCSV(dadof)"
      ]
    },
    {
      "cell_type": "markdown",
      "metadata": {
        "id": "P0fYRlHkWmhI"
      },
      "source": [
        "##Versão Express"
      ]
    },
    {
      "cell_type": "markdown",
      "metadata": {
        "id": "QgJAIT0xtZTy"
      },
      "source": [
        "* A **Versão Express** do **Alfa Scraps** permite que o usuário de forma rápida e eficiente selecione dados para análise utilizando uma abordagem simplificada. Com ela, você pode acessar dados específicos de grupos e subgrupos, realizando a análise sem precisar digitar os parâmetros completos.\n",
        "\n",
        "* O programa oferece uma interação simples no terminal, onde o usuário deve inserir um **grupo, subgrupo e dado** no formato `G,S,D` (Grupo, Subgrupo e Dado), separados por vírgulas."
      ]
    },
    {
      "cell_type": "code",
      "execution_count": null,
      "metadata": {
        "id": "lAt4_8GyXw_A"
      },
      "outputs": [],
      "source": [
        "def confere3Dados(d):\n",
        "    resp = True  # Inicializando a variável com valor True\n",
        "\n",
        "    # Verificando se a string contém exatamente duas vírgulas\n",
        "    if \",\" not in d or d.count(\",\") != 2:\n",
        "        resp = False\n",
        "    else:\n",
        "        # Separando os dados com a vírgula\n",
        "        ld = d.split(\",\")\n",
        "\n",
        "        # Remover qualquer espaço extra de cada item da lista\n",
        "        ld = [i.strip() for i in ld]\n",
        "\n",
        "        # Verificando condições de acordo com o tamanho da lista\n",
        "        if len(ld) > 3 and int(ld[0]) != 5:\n",
        "            resp = False\n",
        "        elif len(ld) > 4:\n",
        "            resp = False\n",
        "        elif len(ld) == 4 and int(ld[0]) != 5:\n",
        "            resp = False\n",
        "        else:\n",
        "            g0 = int(ld[0])\n",
        "            if g0 < 0 or g0 > 4:\n",
        "                resp = False\n",
        "            else:\n",
        "                g1 = int(ld[1])\n",
        "                # Verificar se o grupo e subgrupo existem na estrutura\n",
        "                if g1 < 0 or g1 >= len(grp[g0][\"lista\"]):\n",
        "                  resp = False\n",
        "                else:\n",
        "                  g2 = int(ld[2])\n",
        "                  if g2 < 0 or g2 >= len(grp[g0][\"lista\"][g1][\"lista\"]):\n",
        "                    resp = False\n",
        "\n",
        "    return resp\n",
        "\n",
        "def buscaDadoExpress():\n",
        "    \"\"\"\n",
        "    Função para verificar se os dados fornecidos estão no formato esperado.\n",
        "    O formato esperado é 'G,S,D' onde:\n",
        "        - G: grupo (um número entre 0 e 6)\n",
        "        - S: subgrupo (deve ser válido dentro do grupo)\n",
        "        - D: dado (deve estar dentro do subgrupo)\n",
        "    \"\"\"\n",
        "    dado = input(\"Digite o número do grupo, subgrupo e dado que deseja analisar (G,S,D):\")\n",
        "\n",
        "    while True:\n",
        "        # Validação do dado fornecido\n",
        "        if not confere3Dados(dado):\n",
        "            print(\"Valor digitado inválido! Não esqueça de colocar vírgula depois das 2 primeiras informações.\")\n",
        "            print(\"Dúvida sobre os valores a serem digitados? Vá para o Glossário ou para a versão normal do Alfa Scraps.\")\n",
        "            dado = input(\"Digite o número do grupo, subgrupo e dado que deseja analisar (G,S,D):\")\n",
        "        else:\n",
        "            break\n",
        "\n",
        "    # Divisão do dado em grupo, subgrupo e dado\n",
        "    dadoL = dado.split(\",\")\n",
        "    dadoL = [i.strip() for i in dadoL]  # Removendo espaços extras\n",
        "\n",
        "    g0, g1,g2 = int(dadoL[0]), int(dadoL[1]), int(dadoL[2])  # Convertendo para inteiros\n",
        "\n",
        "    # Retorna lista com os valores para cada tipo de grupo (G0)\n",
        "    if g0 == 4:\n",
        "      if g1 == 1\n",
        "        n = 4\n",
        "      else:\n",
        "        n = 3\n",
        "    elif g0 == 6:\n",
        "        n = 3\n",
        "    elif g0 == 0:\n",
        "          n = 1\n",
        "    elif g0 == 1:\n",
        "      n = 2\n",
        "    else:\n",
        "      n = 3\n",
        "\n",
        "    return [g0, g1, g2, n]\n",
        "\n",
        "def fazDfExpress(g1,g2,n,ntp):\n",
        "  if n == 1:\n",
        "    df = criaDF_bcb(g1, g2[\"codigo\"],ntp)\n",
        "\n",
        "  elif n == 2:\n",
        "    df = criaDF_fred(g2[\"codigo\"])\n",
        "\n",
        "  elif n == 3:\n",
        "    df = criaDF_yfinance(g0,g2,ntp)\n",
        "\n",
        "  else:\n",
        "    df = dadosFincDF(g2)\n",
        "  return df\n",
        "\n"
      ]
    },
    {
      "cell_type": "code",
      "execution_count": 1,
      "metadata": {
        "colab": {
          "base_uri": "https://localhost:8080/",
          "height": 263
        },
        "id": "qpfh_9LoW9pn",
        "outputId": "5165fbe6-2407-4d2d-8875-ae99c9dead4c"
      },
      "outputs": [
        {
          "output_type": "stream",
          "name": "stdout",
          "text": [
            "-=-=-=-=-=-=-=-=-=-=-=-=-=-=-=-=-=-=-=-=\n",
            "Bem-vindo ao Alfa Scraps EXPRESS!\n",
            "-=-=-=-=-=-=-=-=-=-=-=-=-=-=-=-=-=-=-=-=\n"
          ]
        },
        {
          "output_type": "error",
          "ename": "NameError",
          "evalue": "name 'buscaDadoExpress' is not defined",
          "traceback": [
            "\u001b[0;31m---------------------------------------------------------------------------\u001b[0m",
            "\u001b[0;31mNameError\u001b[0m                                 Traceback (most recent call last)",
            "\u001b[0;32m<ipython-input-1-b18a06fb3e90>\u001b[0m in \u001b[0;36m<cell line: 0>\u001b[0;34m()\u001b[0m\n\u001b[1;32m      3\u001b[0m \u001b[0mprint\u001b[0m\u001b[0;34m(\u001b[0m\u001b[0;34m\"-=\"\u001b[0m \u001b[0;34m*\u001b[0m \u001b[0;36m20\u001b[0m\u001b[0;34m)\u001b[0m\u001b[0;34m\u001b[0m\u001b[0;34m\u001b[0m\u001b[0m\n\u001b[1;32m      4\u001b[0m \u001b[0;34m\u001b[0m\u001b[0m\n\u001b[0;32m----> 5\u001b[0;31m \u001b[0mdadoExp\u001b[0m \u001b[0;34m=\u001b[0m \u001b[0mbuscaDadoExpress\u001b[0m\u001b[0;34m(\u001b[0m\u001b[0;34m)\u001b[0m\u001b[0;34m\u001b[0m\u001b[0;34m\u001b[0m\u001b[0m\n\u001b[0m\u001b[1;32m      6\u001b[0m \u001b[0mntp\u001b[0m \u001b[0;34m=\u001b[0m \u001b[0mconfereG2per\u001b[0m\u001b[0;34m(\u001b[0m\u001b[0mdadoExp\u001b[0m\u001b[0;34m[\u001b[0m\u001b[0;36m2\u001b[0m\u001b[0;34m]\u001b[0m\u001b[0;34m)\u001b[0m\u001b[0;34m\u001b[0m\u001b[0;34m\u001b[0m\u001b[0m\n\u001b[1;32m      7\u001b[0m \u001b[0mg0\u001b[0m \u001b[0;34m=\u001b[0m \u001b[0mgrp\u001b[0m\u001b[0;34m[\u001b[0m\u001b[0mdadoExp\u001b[0m\u001b[0;34m[\u001b[0m\u001b[0;36m0\u001b[0m\u001b[0;34m]\u001b[0m\u001b[0;34m]\u001b[0m\u001b[0;34m,\u001b[0m \u001b[0mg0\u001b[0m\u001b[0;34m[\u001b[0m\u001b[0;34m\"lista\"\u001b[0m\u001b[0;34m]\u001b[0m\u001b[0;34m[\u001b[0m\u001b[0mdadoExp\u001b[0m\u001b[0;34m[\u001b[0m\u001b[0;36m1\u001b[0m\u001b[0;34m]\u001b[0m\u001b[0;34m]\u001b[0m\u001b[0;34m,\u001b[0m \u001b[0mg1\u001b[0m\u001b[0;34m[\u001b[0m\u001b[0;34m\"lista\"\u001b[0m\u001b[0;34m]\u001b[0m\u001b[0;34m[\u001b[0m\u001b[0mdadoExp\u001b[0m\u001b[0;34m[\u001b[0m\u001b[0;36m2\u001b[0m\u001b[0;34m]\u001b[0m\u001b[0;34m]\u001b[0m\u001b[0;34m\u001b[0m\u001b[0;34m\u001b[0m\u001b[0m\n",
            "\u001b[0;31mNameError\u001b[0m: name 'buscaDadoExpress' is not defined"
          ]
        }
      ],
      "source": [
        "print(\"-=\" * 20)\n",
        "print(\"Bem-vindo ao Alfa Scraps EXPRESS!\")\n",
        "print(\"-=\" * 20)\n",
        "\n",
        "dadoExp = buscaDadoExpress()\n",
        "ntp = confereG2per(dadoExp[2])\n",
        "g0 = grp[dadoExp[0]], g0[\"lista\"][dadoExp[1]], g1[\"lista\"][dadoExp[2]]\n",
        "\n",
        "dadof = fazDfExpress(g1,g2,dadoExp[3],ntp)\n",
        "if dadof.empty:\n",
        "    print(f\"Nenhum dado encontrado para o ticker {g2} e o grupo {g0}.\")\n",
        "else:\n",
        "    criaCSV(dadof)\n",
        "\n"
      ]
    }
  ],
  "metadata": {
    "colab": {
      "provenance": []
    },
    "kernelspec": {
      "display_name": "Python 3",
      "name": "python3"
    },
    "language_info": {
      "name": "python"
    }
  },
  "nbformat": 4,
  "nbformat_minor": 0
}
